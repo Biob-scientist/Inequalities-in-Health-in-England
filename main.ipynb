{
 "cells": [
  {
   "cell_type": "markdown",
   "id": "732a3d75-c251-49f8-b2ce-70d53715ee03",
   "metadata": {},
   "source": [
    "# Inequalities in Health in England\n",
    "****"
   ]
  },
  {
   "cell_type": "markdown",
   "id": "3a3cf52c-b5e4-4239-a8f0-18415856916b",
   "metadata": {},
   "source": [
    "# Introduction\n",
    "Health inequalities are disparities in health status or the allocation of health resources across various population groups that result from the socioeconomic circumstances under which individuals are born, develop, live, work, and age. Health imbalances are unjust and can be remedied with the correct combination of government interventions."
   ]
  },
  {
   "cell_type": "markdown",
   "id": "3e00c0ef-f8a2-4a53-b08c-4d83e8dde547",
   "metadata": {},
   "source": [
    "# Importing the Essential Libraries\n",
    "***"
   ]
  },
  {
   "cell_type": "code",
   "execution_count": 1,
   "id": "4cc76fe8-76e7-4a6a-b05b-2a89005d3d4a",
   "metadata": {},
   "outputs": [],
   "source": [
    "import numpy as np\n",
    "import pandas as pd\n",
    "import seaborn as sns\n",
    "import matplotlib.pyplot as plt\n",
    "import requests\n",
    "import os\n",
    "import re\n",
    "import folium\n",
    "import json\n",
    "import plotly.express as px"
   ]
  },
  {
   "cell_type": "markdown",
   "id": "35c48bbd-e4fb-48e0-a4d4-2bdc7d4e9c75",
   "metadata": {},
   "source": [
    "# Preliminary Wrangling\n",
    "***\n",
    "It is critical to collect, analyse, and sanitize the data for this project. The data will be collected programmatically, and visual and programmatic inspections will be performed to identify regions in the data that must be cleaned before the analysis can begin."
   ]
  },
  {
   "cell_type": "markdown",
   "id": "6719a38c-7295-43ff-93cf-850a0a7c79c3",
   "metadata": {},
   "source": [
    "### Data Gathering"
   ]
  },
  {
   "cell_type": "code",
   "execution_count": 2,
   "id": "98dc0a8b-3108-43bc-b939-908382435a7c",
   "metadata": {},
   "outputs": [],
   "source": [
    "if False:\n",
    "    url_local_health=\" \"\n",
    "    response=requests.get(url_local_health)\n",
    "    with open(url.split(\".\")[2]+\".\"+url.split(\".\")[-1],'wb') as file:\n",
    "        file.write(response.content)"
   ]
  },
  {
   "cell_type": "code",
   "execution_count": 3,
   "id": "acbfe29d-e3e3-45b0-ad52-d46848d46a10",
   "metadata": {},
   "outputs": [],
   "source": [
    "life_exp_df=pd.read_csv('list-manage.csv')"
   ]
  },
  {
   "cell_type": "markdown",
   "id": "baf5f713-542e-49b2-8b18-1d7c29a31d19",
   "metadata": {},
   "source": [
    "#### Pre-loading the dataset"
   ]
  },
  {
   "cell_type": "code",
   "execution_count": 4,
   "id": "8193757c-7a71-46a1-874b-e0d7b2f8f683",
   "metadata": {},
   "outputs": [
    {
     "name": "stdout",
     "output_type": "stream",
     "text": [
      "<class 'pandas.core.frame.DataFrame'>\n",
      "RangeIndex: 6793 entries, 0 to 6792\n",
      "Data columns (total 4 columns):\n",
      " #   Column                                                        Non-Null Count  Dtype \n",
      "---  ------                                                        --------------  ----- \n",
      " 0   Local Health - Office for Health Improvement and Disparities  6793 non-null   object\n",
      " 1                                                                 6793 non-null   object\n",
      " 2    .1                                                           6737 non-null   object\n",
      " 3    .2                                                           6774 non-null   object\n",
      "dtypes: object(4)\n",
      "memory usage: 212.4+ KB\n"
     ]
    }
   ],
   "source": [
    "life_exp_df.info()"
   ]
  },
  {
   "cell_type": "markdown",
   "id": "edfa0cd7-6c2a-4dea-8c4b-53e0dd3c1e6d",
   "metadata": {
    "tags": []
   },
   "source": [
    "### Data Assessment"
   ]
  },
  {
   "cell_type": "markdown",
   "id": "8172166f-5b3a-45ab-9e89-fc93747958b5",
   "metadata": {},
   "source": [
    "We will visually examine our dataset using spreadsheet apps like as Excel or Google Sheets to identify data tidiness and quality concerns. Similarly, we will evaluate the data programmatically to ensure that no stone is left unturned in the data cleaning process."
   ]
  },
  {
   "cell_type": "code",
   "execution_count": 5,
   "id": "9e9eaa3a-3df6-4332-bda5-bce773c6e8a7",
   "metadata": {},
   "outputs": [
    {
     "data": {
      "text/html": [
       "<div>\n",
       "<style scoped>\n",
       "    .dataframe tbody tr th:only-of-type {\n",
       "        vertical-align: middle;\n",
       "    }\n",
       "\n",
       "    .dataframe tbody tr th {\n",
       "        vertical-align: top;\n",
       "    }\n",
       "\n",
       "    .dataframe thead th {\n",
       "        text-align: right;\n",
       "    }\n",
       "</style>\n",
       "<table border=\"1\" class=\"dataframe\">\n",
       "  <thead>\n",
       "    <tr style=\"text-align: right;\">\n",
       "      <th></th>\n",
       "      <th>Local Health - Office for Health Improvement and Disparities</th>\n",
       "      <th></th>\n",
       "      <th>.1</th>\n",
       "      <th>.2</th>\n",
       "    </tr>\n",
       "  </thead>\n",
       "  <tbody>\n",
       "    <tr>\n",
       "      <th>0</th>\n",
       "      <td>Geographical references: MSOA 2011 (Middle lev...</td>\n",
       "      <td></td>\n",
       "      <td></td>\n",
       "      <td></td>\n",
       "    </tr>\n",
       "    <tr>\n",
       "      <th>1</th>\n",
       "      <td>Code</td>\n",
       "      <td>Label</td>\n",
       "      <td>Life expectancy at birth for males</td>\n",
       "      <td>Life expectancy at birth for females</td>\n",
       "    </tr>\n",
       "    <tr>\n",
       "      <th>2</th>\n",
       "      <td>E02000001</td>\n",
       "      <td>City of London 001</td>\n",
       "      <td>91.1</td>\n",
       "      <td>90.2</td>\n",
       "    </tr>\n",
       "    <tr>\n",
       "      <th>3</th>\n",
       "      <td>E02000002</td>\n",
       "      <td>Barking and Dagenham 001</td>\n",
       "      <td>79.5</td>\n",
       "      <td>82.5</td>\n",
       "    </tr>\n",
       "    <tr>\n",
       "      <th>4</th>\n",
       "      <td>E02000003</td>\n",
       "      <td>Barking and Dagenham 002</td>\n",
       "      <td>78.1</td>\n",
       "      <td>84.2</td>\n",
       "    </tr>\n",
       "  </tbody>\n",
       "</table>\n",
       "</div>"
      ],
      "text/plain": [
       "  Local Health - Office for Health Improvement and Disparities  \\\n",
       "0  Geographical references: MSOA 2011 (Middle lev...             \n",
       "1                                               Code             \n",
       "2                                          E02000001             \n",
       "3                                          E02000002             \n",
       "4                                          E02000003             \n",
       "\n",
       "                                                             .1  \\\n",
       "0                                                                 \n",
       "1                     Label  Life expectancy at birth for males   \n",
       "2        City of London 001                                91.1   \n",
       "3  Barking and Dagenham 001                                79.5   \n",
       "4  Barking and Dagenham 002                                78.1   \n",
       "\n",
       "                                     .2  \n",
       "0                                        \n",
       "1  Life expectancy at birth for females  \n",
       "2                                  90.2  \n",
       "3                                  82.5  \n",
       "4                                  84.2  "
      ]
     },
     "execution_count": 5,
     "metadata": {},
     "output_type": "execute_result"
    }
   ],
   "source": [
    "life_exp_df.head()"
   ]
  },
  {
   "cell_type": "code",
   "execution_count": 6,
   "id": "6622d717-bd82-4975-95c6-cfa37b5dc8d9",
   "metadata": {},
   "outputs": [
    {
     "data": {
      "text/plain": [
       "Index(['Local Health - Office for Health Improvement and Disparities', ' ',\n",
       "       ' .1', ' .2'],\n",
       "      dtype='object')"
      ]
     },
     "execution_count": 6,
     "metadata": {},
     "output_type": "execute_result"
    }
   ],
   "source": [
    "life_exp_df.columns"
   ]
  },
  {
   "cell_type": "markdown",
   "id": "105ee905-7097-4949-8b9d-4618396f0909",
   "metadata": {},
   "source": [
    "##### The Data Quality and Tidiness Issue Identified"
   ]
  },
  {
   "cell_type": "markdown",
   "id": "b57dc091-9ac6-442a-94ba-76cb5e5cd22f",
   "metadata": {
    "jp-MarkdownHeadingCollapsed": true,
    "tags": []
   },
   "source": [
    "\n",
    ">__Tidiness issue__\n",
    ">- life expectancy should be in a single column\n",
    ">- gender should occupy a separate column\n",
    ">- Strip the city code of the city label into a separate column\n",
    "\n"
   ]
  },
  {
   "cell_type": "markdown",
   "id": "217d7e8f-2184-4446-9552-8b49fa35f197",
   "metadata": {},
   "source": [
    ">__Quality issues__\n",
    ">- Remove the table's title\n",
    ">- city code to another column\n",
    ">- rename columns \n",
    ">- Replace Null values life expectancy"
   ]
  },
  {
   "cell_type": "markdown",
   "id": "01770fd4-f5bc-4beb-a551-552197dc26da",
   "metadata": {},
   "source": [
    "## Data Cleaning\n",
    "***"
   ]
  },
  {
   "cell_type": "code",
   "execution_count": 7,
   "id": "e0f38d10-7ff9-4ad7-a1d4-e07813ff7c1b",
   "metadata": {},
   "outputs": [],
   "source": [
    "# make a copy of the cleaned dataset\n",
    "expectancy_df=life_exp_df.copy()"
   ]
  },
  {
   "cell_type": "markdown",
   "id": "c6be083d-f9bb-4853-a977-7aef80cec4cb",
   "metadata": {},
   "source": [
    "### Action 1\n",
    " __Delete the first two rows and rename columns__"
   ]
  },
  {
   "cell_type": "code",
   "execution_count": 8,
   "id": "463bc762-de83-4b04-abb2-35bcdc4b7764",
   "metadata": {},
   "outputs": [],
   "source": [
    "#create a new header\n",
    "header=[\"area_id\",\"city\",\"male_life_expectancy\",\"female_life_expectancy\"]"
   ]
  },
  {
   "cell_type": "code",
   "execution_count": 9,
   "id": "6cc19d48-8aab-4d96-b09b-79d334b5a4f4",
   "metadata": {},
   "outputs": [
    {
     "data": {
      "text/html": [
       "<div>\n",
       "<style scoped>\n",
       "    .dataframe tbody tr th:only-of-type {\n",
       "        vertical-align: middle;\n",
       "    }\n",
       "\n",
       "    .dataframe tbody tr th {\n",
       "        vertical-align: top;\n",
       "    }\n",
       "\n",
       "    .dataframe thead th {\n",
       "        text-align: right;\n",
       "    }\n",
       "</style>\n",
       "<table border=\"1\" class=\"dataframe\">\n",
       "  <thead>\n",
       "    <tr style=\"text-align: right;\">\n",
       "      <th></th>\n",
       "      <th>area_id</th>\n",
       "      <th>city</th>\n",
       "      <th>male_life_expectancy</th>\n",
       "      <th>female_life_expectancy</th>\n",
       "    </tr>\n",
       "  </thead>\n",
       "  <tbody>\n",
       "    <tr>\n",
       "      <th>2</th>\n",
       "      <td>E02000001</td>\n",
       "      <td>City of London 001</td>\n",
       "      <td>91.1</td>\n",
       "      <td>90.2</td>\n",
       "    </tr>\n",
       "    <tr>\n",
       "      <th>3</th>\n",
       "      <td>E02000002</td>\n",
       "      <td>Barking and Dagenham 001</td>\n",
       "      <td>79.5</td>\n",
       "      <td>82.5</td>\n",
       "    </tr>\n",
       "    <tr>\n",
       "      <th>4</th>\n",
       "      <td>E02000003</td>\n",
       "      <td>Barking and Dagenham 002</td>\n",
       "      <td>78.1</td>\n",
       "      <td>84.2</td>\n",
       "    </tr>\n",
       "    <tr>\n",
       "      <th>5</th>\n",
       "      <td>E02000004</td>\n",
       "      <td>Barking and Dagenham 003</td>\n",
       "      <td>77.6</td>\n",
       "      <td>81.8</td>\n",
       "    </tr>\n",
       "    <tr>\n",
       "      <th>6</th>\n",
       "      <td>E02000005</td>\n",
       "      <td>Barking and Dagenham 004</td>\n",
       "      <td>79.2</td>\n",
       "      <td>84.6</td>\n",
       "    </tr>\n",
       "    <tr>\n",
       "      <th>...</th>\n",
       "      <td>...</td>\n",
       "      <td>...</td>\n",
       "      <td>...</td>\n",
       "      <td>...</td>\n",
       "    </tr>\n",
       "    <tr>\n",
       "      <th>6788</th>\n",
       "      <td>E02006930</td>\n",
       "      <td>Greenwich 037</td>\n",
       "      <td>80.8</td>\n",
       "      <td>82.8</td>\n",
       "    </tr>\n",
       "    <tr>\n",
       "      <th>6789</th>\n",
       "      <td>E02006931</td>\n",
       "      <td>Greenwich 038</td>\n",
       "      <td>79.6</td>\n",
       "      <td>83.9</td>\n",
       "    </tr>\n",
       "    <tr>\n",
       "      <th>6790</th>\n",
       "      <td>E02006932</td>\n",
       "      <td>Liverpool 060</td>\n",
       "      <td>73.4</td>\n",
       "      <td>78.7</td>\n",
       "    </tr>\n",
       "    <tr>\n",
       "      <th>6791</th>\n",
       "      <td>E02006933</td>\n",
       "      <td>Liverpool 061</td>\n",
       "      <td>77</td>\n",
       "      <td>84.3</td>\n",
       "    </tr>\n",
       "    <tr>\n",
       "      <th>6792</th>\n",
       "      <td>E02006934</td>\n",
       "      <td>Liverpool 062</td>\n",
       "      <td>NaN</td>\n",
       "      <td>NaN</td>\n",
       "    </tr>\n",
       "  </tbody>\n",
       "</table>\n",
       "<p>6791 rows × 4 columns</p>\n",
       "</div>"
      ],
      "text/plain": [
       "        area_id                      city male_life_expectancy  \\\n",
       "2     E02000001        City of London 001                 91.1   \n",
       "3     E02000002  Barking and Dagenham 001                 79.5   \n",
       "4     E02000003  Barking and Dagenham 002                 78.1   \n",
       "5     E02000004  Barking and Dagenham 003                 77.6   \n",
       "6     E02000005  Barking and Dagenham 004                 79.2   \n",
       "...         ...                       ...                  ...   \n",
       "6788  E02006930             Greenwich 037                 80.8   \n",
       "6789  E02006931             Greenwich 038                 79.6   \n",
       "6790  E02006932             Liverpool 060                 73.4   \n",
       "6791  E02006933             Liverpool 061                   77   \n",
       "6792  E02006934             Liverpool 062                  NaN   \n",
       "\n",
       "     female_life_expectancy  \n",
       "2                      90.2  \n",
       "3                      82.5  \n",
       "4                      84.2  \n",
       "5                      81.8  \n",
       "6                      84.6  \n",
       "...                     ...  \n",
       "6788                   82.8  \n",
       "6789                   83.9  \n",
       "6790                   78.7  \n",
       "6791                   84.3  \n",
       "6792                    NaN  \n",
       "\n",
       "[6791 rows x 4 columns]"
      ]
     },
     "execution_count": 9,
     "metadata": {},
     "output_type": "execute_result"
    }
   ],
   "source": [
    "expectancy_df=expectancy_df.iloc[2:]\n",
    "expectancy_df.columns=header\n",
    "expectancy_df"
   ]
  },
  {
   "cell_type": "code",
   "execution_count": 10,
   "id": "42a03f5d-5ed3-43de-bbd9-1c9346adf792",
   "metadata": {},
   "outputs": [
    {
     "name": "stdout",
     "output_type": "stream",
     "text": [
      "    6791\n",
      "Name: empty_column, dtype: int64\n"
     ]
    }
   ],
   "source": [
    "splited_df=expectancy_df.city.str.split(r'(\\d+)', expand=True,regex=True,)\n",
    "splited_df.columns=[\"city\",\"area_code\",\"empty_column\"]\n",
    "print(splited_df.empty_column.value_counts())\n"
   ]
  },
  {
   "cell_type": "code",
   "execution_count": 11,
   "id": "366ca292-0e80-48e1-98f9-1136af37359d",
   "metadata": {},
   "outputs": [],
   "source": [
    "expectancy_df.drop('city',axis=1,inplace=True)"
   ]
  },
  {
   "cell_type": "code",
   "execution_count": 12,
   "id": "5cab6243-54ea-4777-ae31-812d23ae3efd",
   "metadata": {},
   "outputs": [
    {
     "data": {
      "text/html": [
       "<div>\n",
       "<style scoped>\n",
       "    .dataframe tbody tr th:only-of-type {\n",
       "        vertical-align: middle;\n",
       "    }\n",
       "\n",
       "    .dataframe tbody tr th {\n",
       "        vertical-align: top;\n",
       "    }\n",
       "\n",
       "    .dataframe thead th {\n",
       "        text-align: right;\n",
       "    }\n",
       "</style>\n",
       "<table border=\"1\" class=\"dataframe\">\n",
       "  <thead>\n",
       "    <tr style=\"text-align: right;\">\n",
       "      <th></th>\n",
       "      <th>area_id</th>\n",
       "      <th>area_code</th>\n",
       "      <th>city</th>\n",
       "      <th>male_life_expectancy</th>\n",
       "      <th>female_life_expectancy</th>\n",
       "    </tr>\n",
       "  </thead>\n",
       "  <tbody>\n",
       "    <tr>\n",
       "      <th>0</th>\n",
       "      <td>E02000001</td>\n",
       "      <td>001</td>\n",
       "      <td>City of London</td>\n",
       "      <td>91.1</td>\n",
       "      <td>90.2</td>\n",
       "    </tr>\n",
       "    <tr>\n",
       "      <th>1</th>\n",
       "      <td>E02000002</td>\n",
       "      <td>001</td>\n",
       "      <td>Barking and Dagenham</td>\n",
       "      <td>79.5</td>\n",
       "      <td>82.5</td>\n",
       "    </tr>\n",
       "    <tr>\n",
       "      <th>2</th>\n",
       "      <td>E02000003</td>\n",
       "      <td>002</td>\n",
       "      <td>Barking and Dagenham</td>\n",
       "      <td>78.1</td>\n",
       "      <td>84.2</td>\n",
       "    </tr>\n",
       "    <tr>\n",
       "      <th>3</th>\n",
       "      <td>E02000004</td>\n",
       "      <td>003</td>\n",
       "      <td>Barking and Dagenham</td>\n",
       "      <td>77.6</td>\n",
       "      <td>81.8</td>\n",
       "    </tr>\n",
       "    <tr>\n",
       "      <th>4</th>\n",
       "      <td>E02000005</td>\n",
       "      <td>004</td>\n",
       "      <td>Barking and Dagenham</td>\n",
       "      <td>79.2</td>\n",
       "      <td>84.6</td>\n",
       "    </tr>\n",
       "  </tbody>\n",
       "</table>\n",
       "</div>"
      ],
      "text/plain": [
       "     area_id area_code                   city male_life_expectancy  \\\n",
       "0  E02000001       001        City of London                  91.1   \n",
       "1  E02000002       001  Barking and Dagenham                  79.5   \n",
       "2  E02000003       002  Barking and Dagenham                  78.1   \n",
       "3  E02000004       003  Barking and Dagenham                  77.6   \n",
       "4  E02000005       004  Barking and Dagenham                  79.2   \n",
       "\n",
       "  female_life_expectancy  \n",
       "0                   90.2  \n",
       "1                   82.5  \n",
       "2                   84.2  \n",
       "3                   81.8  \n",
       "4                   84.6  "
      ]
     },
     "execution_count": 12,
     "metadata": {},
     "output_type": "execute_result"
    }
   ],
   "source": [
    "expectancy_df['city']=splited_df['city']\n",
    "expectancy_df['area_code']=splited_df['area_code']\n",
    "expectancy_df.reset_index(drop=True,inplace=True)\n",
    "expectancy_df=expectancy_df[['area_id','area_code','city',\"male_life_expectancy\",\"female_life_expectancy\"]]\n",
    "expectancy_df.head()"
   ]
  },
  {
   "cell_type": "markdown",
   "id": "f11ae83a-ea67-41f3-9ed1-e5c518b9918b",
   "metadata": {},
   "source": [
    "### Action 2\n",
    " __Convert life expectancy column to type float__"
   ]
  },
  {
   "cell_type": "code",
   "execution_count": 13,
   "id": "5d85d782-301f-4b23-80dc-533cc0b46c4a",
   "metadata": {},
   "outputs": [],
   "source": [
    "#convert life expectancy to type float\n",
    "expectancy_df.male_life_expectancy=expectancy_df.male_life_expectancy.astype(float)\n",
    "expectancy_df.female_life_expectancy=expectancy_df.female_life_expectancy.astype(float)"
   ]
  },
  {
   "cell_type": "code",
   "execution_count": 14,
   "id": "f1c0bbd4-224f-4a38-a86d-ce2d63c00baa",
   "metadata": {},
   "outputs": [
    {
     "name": "stdout",
     "output_type": "stream",
     "text": [
      "<class 'pandas.core.frame.DataFrame'>\n",
      "RangeIndex: 6791 entries, 0 to 6790\n",
      "Data columns (total 5 columns):\n",
      " #   Column                  Non-Null Count  Dtype  \n",
      "---  ------                  --------------  -----  \n",
      " 0   area_id                 6791 non-null   object \n",
      " 1   area_code               6791 non-null   object \n",
      " 2   city                    6791 non-null   object \n",
      " 3   male_life_expectancy    6735 non-null   float64\n",
      " 4   female_life_expectancy  6772 non-null   float64\n",
      "dtypes: float64(2), object(3)\n",
      "memory usage: 265.4+ KB\n"
     ]
    }
   ],
   "source": [
    "expectancy_df.info()"
   ]
  },
  {
   "cell_type": "markdown",
   "id": "51fd9af3-857f-44a1-bc24-e3eff11c782a",
   "metadata": {},
   "source": [
    "### Action 3\n",
    " __Replace the null values with the corresponding gender and city average life epectancy__"
   ]
  },
  {
   "cell_type": "code",
   "execution_count": 15,
   "id": "9ac86c41-d87d-422f-9558-2325fa59ed5a",
   "metadata": {},
   "outputs": [
    {
     "data": {
      "text/plain": [
       "area_id                    0\n",
       "area_code                  0\n",
       "city                       0\n",
       "male_life_expectancy      56\n",
       "female_life_expectancy    19\n",
       "dtype: int64"
      ]
     },
     "execution_count": 15,
     "metadata": {},
     "output_type": "execute_result"
    }
   ],
   "source": [
    "#check for the sum of null values in columns\n",
    "expectancy_df.isnull().sum()"
   ]
  },
  {
   "cell_type": "markdown",
   "id": "bcf8c7b9-f83b-491a-9a84-2669f9a15dcd",
   "metadata": {},
   "source": [
    "> __Observations__\n",
    ">- There are 56 empty cells in the male life expectancy\n",
    ">- There 19 empty cells in the female life expectancy"
   ]
  },
  {
   "cell_type": "code",
   "execution_count": 16,
   "id": "f6b657c9-a98a-46f6-90e7-9c3b1b612a10",
   "metadata": {},
   "outputs": [
    {
     "data": {
      "text/html": [
       "<div>\n",
       "<style scoped>\n",
       "    .dataframe tbody tr th:only-of-type {\n",
       "        vertical-align: middle;\n",
       "    }\n",
       "\n",
       "    .dataframe tbody tr th {\n",
       "        vertical-align: top;\n",
       "    }\n",
       "\n",
       "    .dataframe thead th {\n",
       "        text-align: right;\n",
       "    }\n",
       "</style>\n",
       "<table border=\"1\" class=\"dataframe\">\n",
       "  <thead>\n",
       "    <tr style=\"text-align: right;\">\n",
       "      <th></th>\n",
       "      <th>area_id</th>\n",
       "      <th>area_code</th>\n",
       "      <th>city</th>\n",
       "      <th>male_life_expectancy</th>\n",
       "      <th>female_life_expectancy</th>\n",
       "    </tr>\n",
       "  </thead>\n",
       "  <tbody>\n",
       "    <tr>\n",
       "      <th>0</th>\n",
       "      <td>E02000001</td>\n",
       "      <td>001</td>\n",
       "      <td>City of London</td>\n",
       "      <td>91.1</td>\n",
       "      <td>90.2</td>\n",
       "    </tr>\n",
       "    <tr>\n",
       "      <th>1</th>\n",
       "      <td>E02000002</td>\n",
       "      <td>001</td>\n",
       "      <td>Barking and Dagenham</td>\n",
       "      <td>79.5</td>\n",
       "      <td>82.5</td>\n",
       "    </tr>\n",
       "    <tr>\n",
       "      <th>2</th>\n",
       "      <td>E02000003</td>\n",
       "      <td>002</td>\n",
       "      <td>Barking and Dagenham</td>\n",
       "      <td>78.1</td>\n",
       "      <td>84.2</td>\n",
       "    </tr>\n",
       "    <tr>\n",
       "      <th>3</th>\n",
       "      <td>E02000004</td>\n",
       "      <td>003</td>\n",
       "      <td>Barking and Dagenham</td>\n",
       "      <td>77.6</td>\n",
       "      <td>81.8</td>\n",
       "    </tr>\n",
       "    <tr>\n",
       "      <th>4</th>\n",
       "      <td>E02000005</td>\n",
       "      <td>004</td>\n",
       "      <td>Barking and Dagenham</td>\n",
       "      <td>79.2</td>\n",
       "      <td>84.6</td>\n",
       "    </tr>\n",
       "  </tbody>\n",
       "</table>\n",
       "</div>"
      ],
      "text/plain": [
       "     area_id area_code                   city  male_life_expectancy  \\\n",
       "0  E02000001       001        City of London                   91.1   \n",
       "1  E02000002       001  Barking and Dagenham                   79.5   \n",
       "2  E02000003       002  Barking and Dagenham                   78.1   \n",
       "3  E02000004       003  Barking and Dagenham                   77.6   \n",
       "4  E02000005       004  Barking and Dagenham                   79.2   \n",
       "\n",
       "   female_life_expectancy  \n",
       "0                    90.2  \n",
       "1                    82.5  \n",
       "2                    84.2  \n",
       "3                    81.8  \n",
       "4                    84.6  "
      ]
     },
     "execution_count": 16,
     "metadata": {},
     "output_type": "execute_result"
    }
   ],
   "source": [
    "expectancy_df.head()"
   ]
  },
  {
   "cell_type": "code",
   "execution_count": 17,
   "id": "24e29aa0-6f7a-49c8-b299-14d437c9c719",
   "metadata": {},
   "outputs": [
    {
     "data": {
      "text/html": [
       "<div>\n",
       "<style scoped>\n",
       "    .dataframe tbody tr th:only-of-type {\n",
       "        vertical-align: middle;\n",
       "    }\n",
       "\n",
       "    .dataframe tbody tr th {\n",
       "        vertical-align: top;\n",
       "    }\n",
       "\n",
       "    .dataframe thead th {\n",
       "        text-align: right;\n",
       "    }\n",
       "</style>\n",
       "<table border=\"1\" class=\"dataframe\">\n",
       "  <thead>\n",
       "    <tr style=\"text-align: right;\">\n",
       "      <th></th>\n",
       "      <th>area_id</th>\n",
       "      <th>area_code</th>\n",
       "      <th>city</th>\n",
       "      <th>male_life_expectancy</th>\n",
       "      <th>female_life_expectancy</th>\n",
       "    </tr>\n",
       "  </thead>\n",
       "  <tbody>\n",
       "    <tr>\n",
       "      <th>20</th>\n",
       "      <td>E02000022</td>\n",
       "      <td>021</td>\n",
       "      <td>Barking and Dagenham</td>\n",
       "      <td>NaN</td>\n",
       "      <td>NaN</td>\n",
       "    </tr>\n",
       "    <tr>\n",
       "      <th>47</th>\n",
       "      <td>E02000049</td>\n",
       "      <td>026</td>\n",
       "      <td>Barnet</td>\n",
       "      <td>NaN</td>\n",
       "      <td>86.7</td>\n",
       "    </tr>\n",
       "    <tr>\n",
       "      <th>168</th>\n",
       "      <td>E02000174</td>\n",
       "      <td>009</td>\n",
       "      <td>Camden</td>\n",
       "      <td>NaN</td>\n",
       "      <td>85.1</td>\n",
       "    </tr>\n",
       "    <tr>\n",
       "      <th>186</th>\n",
       "      <td>E02000192</td>\n",
       "      <td>027</td>\n",
       "      <td>Camden</td>\n",
       "      <td>NaN</td>\n",
       "      <td>89.4</td>\n",
       "    </tr>\n",
       "    <tr>\n",
       "      <th>205</th>\n",
       "      <td>E02000212</td>\n",
       "      <td>019</td>\n",
       "      <td>Croydon</td>\n",
       "      <td>NaN</td>\n",
       "      <td>83.6</td>\n",
       "    </tr>\n",
       "    <tr>\n",
       "      <th>269</th>\n",
       "      <td>E02000277</td>\n",
       "      <td>001</td>\n",
       "      <td>Enfield</td>\n",
       "      <td>NaN</td>\n",
       "      <td>83.3</td>\n",
       "    </tr>\n",
       "    <tr>\n",
       "      <th>274</th>\n",
       "      <td>E02000282</td>\n",
       "      <td>006</td>\n",
       "      <td>Enfield</td>\n",
       "      <td>NaN</td>\n",
       "      <td>81.9</td>\n",
       "    </tr>\n",
       "    <tr>\n",
       "      <th>395</th>\n",
       "      <td>E02000411</td>\n",
       "      <td>015</td>\n",
       "      <td>Haringey</td>\n",
       "      <td>NaN</td>\n",
       "      <td>83.2</td>\n",
       "    </tr>\n",
       "    <tr>\n",
       "      <th>617</th>\n",
       "      <td>E02000639</td>\n",
       "      <td>022</td>\n",
       "      <td>Lambeth</td>\n",
       "      <td>NaN</td>\n",
       "      <td>82.3</td>\n",
       "    </tr>\n",
       "    <tr>\n",
       "      <th>647</th>\n",
       "      <td>E02000670</td>\n",
       "      <td>018</td>\n",
       "      <td>Lewisham</td>\n",
       "      <td>NaN</td>\n",
       "      <td>83.0</td>\n",
       "    </tr>\n",
       "    <tr>\n",
       "      <th>672</th>\n",
       "      <td>E02000697</td>\n",
       "      <td>009</td>\n",
       "      <td>Merton</td>\n",
       "      <td>NaN</td>\n",
       "      <td>84.4</td>\n",
       "    </tr>\n",
       "    <tr>\n",
       "      <th>720</th>\n",
       "      <td>E02000745</td>\n",
       "      <td>032</td>\n",
       "      <td>Newham</td>\n",
       "      <td>NaN</td>\n",
       "      <td>81.2</td>\n",
       "    </tr>\n",
       "    <tr>\n",
       "      <th>784</th>\n",
       "      <td>E02000815</td>\n",
       "      <td>009</td>\n",
       "      <td>Southwark</td>\n",
       "      <td>NaN</td>\n",
       "      <td>92.2</td>\n",
       "    </tr>\n",
       "    <tr>\n",
       "      <th>792</th>\n",
       "      <td>E02000823</td>\n",
       "      <td>017</td>\n",
       "      <td>Southwark</td>\n",
       "      <td>NaN</td>\n",
       "      <td>85.3</td>\n",
       "    </tr>\n",
       "    <tr>\n",
       "      <th>798</th>\n",
       "      <td>E02000829</td>\n",
       "      <td>023</td>\n",
       "      <td>Southwark</td>\n",
       "      <td>NaN</td>\n",
       "      <td>79.5</td>\n",
       "    </tr>\n",
       "    <tr>\n",
       "      <th>854</th>\n",
       "      <td>E02000886</td>\n",
       "      <td>023</td>\n",
       "      <td>Tower Hamlets</td>\n",
       "      <td>NaN</td>\n",
       "      <td>83.9</td>\n",
       "    </tr>\n",
       "    <tr>\n",
       "      <th>857</th>\n",
       "      <td>E02000889</td>\n",
       "      <td>026</td>\n",
       "      <td>Tower Hamlets</td>\n",
       "      <td>NaN</td>\n",
       "      <td>84.0</td>\n",
       "    </tr>\n",
       "    <tr>\n",
       "      <th>859</th>\n",
       "      <td>E02000891</td>\n",
       "      <td>028</td>\n",
       "      <td>Tower Hamlets</td>\n",
       "      <td>NaN</td>\n",
       "      <td>84.5</td>\n",
       "    </tr>\n",
       "    <tr>\n",
       "      <th>1269</th>\n",
       "      <td>E02001307</td>\n",
       "      <td>021</td>\n",
       "      <td>Wigan</td>\n",
       "      <td>NaN</td>\n",
       "      <td>84.3</td>\n",
       "    </tr>\n",
       "    <tr>\n",
       "      <th>1289</th>\n",
       "      <td>E02001327</td>\n",
       "      <td>001</td>\n",
       "      <td>Knowsley</td>\n",
       "      <td>NaN</td>\n",
       "      <td>77.3</td>\n",
       "    </tr>\n",
       "    <tr>\n",
       "      <th>1357</th>\n",
       "      <td>E02001396</td>\n",
       "      <td>050</td>\n",
       "      <td>Liverpool</td>\n",
       "      <td>NaN</td>\n",
       "      <td>80.3</td>\n",
       "    </tr>\n",
       "    <tr>\n",
       "      <th>1383</th>\n",
       "      <td>E02001422</td>\n",
       "      <td>017</td>\n",
       "      <td>St. Helens</td>\n",
       "      <td>NaN</td>\n",
       "      <td>76.8</td>\n",
       "    </tr>\n",
       "    <tr>\n",
       "      <th>1710</th>\n",
       "      <td>E02001758</td>\n",
       "      <td>021</td>\n",
       "      <td>North Tyneside</td>\n",
       "      <td>NaN</td>\n",
       "      <td>83.9</td>\n",
       "    </tr>\n",
       "    <tr>\n",
       "      <th>1992</th>\n",
       "      <td>E02002049</td>\n",
       "      <td>007</td>\n",
       "      <td>Sandwell</td>\n",
       "      <td>NaN</td>\n",
       "      <td>84.8</td>\n",
       "    </tr>\n",
       "    <tr>\n",
       "      <th>2196</th>\n",
       "      <td>E02002257</td>\n",
       "      <td>014</td>\n",
       "      <td>Calderdale</td>\n",
       "      <td>NaN</td>\n",
       "      <td>81.7</td>\n",
       "    </tr>\n",
       "    <tr>\n",
       "      <th>2228</th>\n",
       "      <td>E02002289</td>\n",
       "      <td>019</td>\n",
       "      <td>Kirklees</td>\n",
       "      <td>NaN</td>\n",
       "      <td>84.4</td>\n",
       "    </tr>\n",
       "    <tr>\n",
       "      <th>2240</th>\n",
       "      <td>E02002301</td>\n",
       "      <td>031</td>\n",
       "      <td>Kirklees</td>\n",
       "      <td>NaN</td>\n",
       "      <td>83.2</td>\n",
       "    </tr>\n",
       "    <tr>\n",
       "      <th>2245</th>\n",
       "      <td>E02002306</td>\n",
       "      <td>036</td>\n",
       "      <td>Kirklees</td>\n",
       "      <td>NaN</td>\n",
       "      <td>88.5</td>\n",
       "    </tr>\n",
       "    <tr>\n",
       "      <th>2334</th>\n",
       "      <td>E02002399</td>\n",
       "      <td>070</td>\n",
       "      <td>Leeds</td>\n",
       "      <td>NaN</td>\n",
       "      <td>77.7</td>\n",
       "    </tr>\n",
       "    <tr>\n",
       "      <th>2401</th>\n",
       "      <td>E02002467</td>\n",
       "      <td>030</td>\n",
       "      <td>Wakefield</td>\n",
       "      <td>NaN</td>\n",
       "      <td>82.5</td>\n",
       "    </tr>\n",
       "    <tr>\n",
       "      <th>2485</th>\n",
       "      <td>E02002557</td>\n",
       "      <td>023</td>\n",
       "      <td>Stockton-on-Tees</td>\n",
       "      <td>NaN</td>\n",
       "      <td>81.2</td>\n",
       "    </tr>\n",
       "    <tr>\n",
       "      <th>2733</th>\n",
       "      <td>E02002808</td>\n",
       "      <td>013</td>\n",
       "      <td>Derby</td>\n",
       "      <td>NaN</td>\n",
       "      <td>78.5</td>\n",
       "    </tr>\n",
       "    <tr>\n",
       "      <th>2799</th>\n",
       "      <td>E02002879</td>\n",
       "      <td>012</td>\n",
       "      <td>Nottingham</td>\n",
       "      <td>NaN</td>\n",
       "      <td>81.7</td>\n",
       "    </tr>\n",
       "    <tr>\n",
       "      <th>2809</th>\n",
       "      <td>E02002889</td>\n",
       "      <td>022</td>\n",
       "      <td>Nottingham</td>\n",
       "      <td>NaN</td>\n",
       "      <td>76.3</td>\n",
       "    </tr>\n",
       "    <tr>\n",
       "      <th>3138</th>\n",
       "      <td>E02003226</td>\n",
       "      <td>015</td>\n",
       "      <td>Swindon</td>\n",
       "      <td>NaN</td>\n",
       "      <td>83.3</td>\n",
       "    </tr>\n",
       "    <tr>\n",
       "      <th>3284</th>\n",
       "      <td>E02003374</td>\n",
       "      <td>008</td>\n",
       "      <td>West Berkshire</td>\n",
       "      <td>NaN</td>\n",
       "      <td>85.6</td>\n",
       "    </tr>\n",
       "    <tr>\n",
       "      <th>3479</th>\n",
       "      <td>E02003570</td>\n",
       "      <td>022</td>\n",
       "      <td>Southampton</td>\n",
       "      <td>NaN</td>\n",
       "      <td>78.7</td>\n",
       "    </tr>\n",
       "    <tr>\n",
       "      <th>3719</th>\n",
       "      <td>E02003814</td>\n",
       "      <td>025</td>\n",
       "      <td>Cheshire East</td>\n",
       "      <td>NaN</td>\n",
       "      <td>83.4</td>\n",
       "    </tr>\n",
       "    <tr>\n",
       "      <th>3754</th>\n",
       "      <td>E02003849</td>\n",
       "      <td>011</td>\n",
       "      <td>Cheshire West and Chester</td>\n",
       "      <td>NaN</td>\n",
       "      <td>79.4</td>\n",
       "    </tr>\n",
       "    <tr>\n",
       "      <th>4545</th>\n",
       "      <td>E02004649</td>\n",
       "      <td>014</td>\n",
       "      <td>Gloucester</td>\n",
       "      <td>NaN</td>\n",
       "      <td>NaN</td>\n",
       "    </tr>\n",
       "    <tr>\n",
       "      <th>4751</th>\n",
       "      <td>E02004860</td>\n",
       "      <td>005</td>\n",
       "      <td>Dacorum</td>\n",
       "      <td>NaN</td>\n",
       "      <td>82.1</td>\n",
       "    </tr>\n",
       "    <tr>\n",
       "      <th>5822</th>\n",
       "      <td>E02005957</td>\n",
       "      <td>018</td>\n",
       "      <td>Oxford</td>\n",
       "      <td>NaN</td>\n",
       "      <td>78.0</td>\n",
       "    </tr>\n",
       "    <tr>\n",
       "      <th>6287</th>\n",
       "      <td>E02006426</td>\n",
       "      <td>011</td>\n",
       "      <td>Surrey Heath</td>\n",
       "      <td>NaN</td>\n",
       "      <td>NaN</td>\n",
       "    </tr>\n",
       "    <tr>\n",
       "      <th>6442</th>\n",
       "      <td>E02006584</td>\n",
       "      <td>010</td>\n",
       "      <td>Crawley</td>\n",
       "      <td>NaN</td>\n",
       "      <td>82.3</td>\n",
       "    </tr>\n",
       "    <tr>\n",
       "      <th>6700</th>\n",
       "      <td>E02006843</td>\n",
       "      <td>073</td>\n",
       "      <td>Sheffield</td>\n",
       "      <td>NaN</td>\n",
       "      <td>80.7</td>\n",
       "    </tr>\n",
       "    <tr>\n",
       "      <th>6708</th>\n",
       "      <td>E02006851</td>\n",
       "      <td>041</td>\n",
       "      <td>Leicester</td>\n",
       "      <td>NaN</td>\n",
       "      <td>84.8</td>\n",
       "    </tr>\n",
       "    <tr>\n",
       "      <th>6711</th>\n",
       "      <td>E02006854</td>\n",
       "      <td>033</td>\n",
       "      <td>Tower Hamlets</td>\n",
       "      <td>NaN</td>\n",
       "      <td>NaN</td>\n",
       "    </tr>\n",
       "    <tr>\n",
       "      <th>6716</th>\n",
       "      <td>E02006859</td>\n",
       "      <td>019</td>\n",
       "      <td>Thurrock</td>\n",
       "      <td>NaN</td>\n",
       "      <td>NaN</td>\n",
       "    </tr>\n",
       "    <tr>\n",
       "      <th>6732</th>\n",
       "      <td>E02006875</td>\n",
       "      <td>111</td>\n",
       "      <td>Leeds</td>\n",
       "      <td>NaN</td>\n",
       "      <td>NaN</td>\n",
       "    </tr>\n",
       "    <tr>\n",
       "      <th>6755</th>\n",
       "      <td>E02006898</td>\n",
       "      <td>137</td>\n",
       "      <td>Birmingham</td>\n",
       "      <td>NaN</td>\n",
       "      <td>83.1</td>\n",
       "    </tr>\n",
       "    <tr>\n",
       "      <th>6756</th>\n",
       "      <td>E02006899</td>\n",
       "      <td>138</td>\n",
       "      <td>Birmingham</td>\n",
       "      <td>NaN</td>\n",
       "      <td>77.5</td>\n",
       "    </tr>\n",
       "    <tr>\n",
       "      <th>6759</th>\n",
       "      <td>E02006902</td>\n",
       "      <td>054</td>\n",
       "      <td>Manchester</td>\n",
       "      <td>NaN</td>\n",
       "      <td>79.5</td>\n",
       "    </tr>\n",
       "    <tr>\n",
       "      <th>6769</th>\n",
       "      <td>E02006912</td>\n",
       "      <td>055</td>\n",
       "      <td>Manchester</td>\n",
       "      <td>NaN</td>\n",
       "      <td>92.2</td>\n",
       "    </tr>\n",
       "    <tr>\n",
       "      <th>6771</th>\n",
       "      <td>E02006914</td>\n",
       "      <td>057</td>\n",
       "      <td>Manchester</td>\n",
       "      <td>NaN</td>\n",
       "      <td>NaN</td>\n",
       "    </tr>\n",
       "    <tr>\n",
       "      <th>6774</th>\n",
       "      <td>E02006917</td>\n",
       "      <td>060</td>\n",
       "      <td>Manchester</td>\n",
       "      <td>NaN</td>\n",
       "      <td>NaN</td>\n",
       "    </tr>\n",
       "    <tr>\n",
       "      <th>6790</th>\n",
       "      <td>E02006934</td>\n",
       "      <td>062</td>\n",
       "      <td>Liverpool</td>\n",
       "      <td>NaN</td>\n",
       "      <td>NaN</td>\n",
       "    </tr>\n",
       "  </tbody>\n",
       "</table>\n",
       "</div>"
      ],
      "text/plain": [
       "        area_id area_code                       city  male_life_expectancy  \\\n",
       "20    E02000022       021       Barking and Dagenham                   NaN   \n",
       "47    E02000049       026                     Barnet                   NaN   \n",
       "168   E02000174       009                     Camden                   NaN   \n",
       "186   E02000192       027                     Camden                   NaN   \n",
       "205   E02000212       019                    Croydon                   NaN   \n",
       "269   E02000277       001                    Enfield                   NaN   \n",
       "274   E02000282       006                    Enfield                   NaN   \n",
       "395   E02000411       015                   Haringey                   NaN   \n",
       "617   E02000639       022                    Lambeth                   NaN   \n",
       "647   E02000670       018                   Lewisham                   NaN   \n",
       "672   E02000697       009                     Merton                   NaN   \n",
       "720   E02000745       032                     Newham                   NaN   \n",
       "784   E02000815       009                  Southwark                   NaN   \n",
       "792   E02000823       017                  Southwark                   NaN   \n",
       "798   E02000829       023                  Southwark                   NaN   \n",
       "854   E02000886       023              Tower Hamlets                   NaN   \n",
       "857   E02000889       026              Tower Hamlets                   NaN   \n",
       "859   E02000891       028              Tower Hamlets                   NaN   \n",
       "1269  E02001307       021                      Wigan                   NaN   \n",
       "1289  E02001327       001                   Knowsley                   NaN   \n",
       "1357  E02001396       050                  Liverpool                   NaN   \n",
       "1383  E02001422       017                 St. Helens                   NaN   \n",
       "1710  E02001758       021             North Tyneside                   NaN   \n",
       "1992  E02002049       007                   Sandwell                   NaN   \n",
       "2196  E02002257       014                 Calderdale                   NaN   \n",
       "2228  E02002289       019                   Kirklees                   NaN   \n",
       "2240  E02002301       031                   Kirklees                   NaN   \n",
       "2245  E02002306       036                   Kirklees                   NaN   \n",
       "2334  E02002399       070                      Leeds                   NaN   \n",
       "2401  E02002467       030                  Wakefield                   NaN   \n",
       "2485  E02002557       023           Stockton-on-Tees                   NaN   \n",
       "2733  E02002808       013                      Derby                   NaN   \n",
       "2799  E02002879       012                 Nottingham                   NaN   \n",
       "2809  E02002889       022                 Nottingham                   NaN   \n",
       "3138  E02003226       015                    Swindon                   NaN   \n",
       "3284  E02003374       008             West Berkshire                   NaN   \n",
       "3479  E02003570       022                Southampton                   NaN   \n",
       "3719  E02003814       025              Cheshire East                   NaN   \n",
       "3754  E02003849       011  Cheshire West and Chester                   NaN   \n",
       "4545  E02004649       014                 Gloucester                   NaN   \n",
       "4751  E02004860       005                    Dacorum                   NaN   \n",
       "5822  E02005957       018                     Oxford                   NaN   \n",
       "6287  E02006426       011               Surrey Heath                   NaN   \n",
       "6442  E02006584       010                    Crawley                   NaN   \n",
       "6700  E02006843       073                  Sheffield                   NaN   \n",
       "6708  E02006851       041                  Leicester                   NaN   \n",
       "6711  E02006854       033              Tower Hamlets                   NaN   \n",
       "6716  E02006859       019                   Thurrock                   NaN   \n",
       "6732  E02006875       111                      Leeds                   NaN   \n",
       "6755  E02006898       137                 Birmingham                   NaN   \n",
       "6756  E02006899       138                 Birmingham                   NaN   \n",
       "6759  E02006902       054                 Manchester                   NaN   \n",
       "6769  E02006912       055                 Manchester                   NaN   \n",
       "6771  E02006914       057                 Manchester                   NaN   \n",
       "6774  E02006917       060                 Manchester                   NaN   \n",
       "6790  E02006934       062                  Liverpool                   NaN   \n",
       "\n",
       "      female_life_expectancy  \n",
       "20                       NaN  \n",
       "47                      86.7  \n",
       "168                     85.1  \n",
       "186                     89.4  \n",
       "205                     83.6  \n",
       "269                     83.3  \n",
       "274                     81.9  \n",
       "395                     83.2  \n",
       "617                     82.3  \n",
       "647                     83.0  \n",
       "672                     84.4  \n",
       "720                     81.2  \n",
       "784                     92.2  \n",
       "792                     85.3  \n",
       "798                     79.5  \n",
       "854                     83.9  \n",
       "857                     84.0  \n",
       "859                     84.5  \n",
       "1269                    84.3  \n",
       "1289                    77.3  \n",
       "1357                    80.3  \n",
       "1383                    76.8  \n",
       "1710                    83.9  \n",
       "1992                    84.8  \n",
       "2196                    81.7  \n",
       "2228                    84.4  \n",
       "2240                    83.2  \n",
       "2245                    88.5  \n",
       "2334                    77.7  \n",
       "2401                    82.5  \n",
       "2485                    81.2  \n",
       "2733                    78.5  \n",
       "2799                    81.7  \n",
       "2809                    76.3  \n",
       "3138                    83.3  \n",
       "3284                    85.6  \n",
       "3479                    78.7  \n",
       "3719                    83.4  \n",
       "3754                    79.4  \n",
       "4545                     NaN  \n",
       "4751                    82.1  \n",
       "5822                    78.0  \n",
       "6287                     NaN  \n",
       "6442                    82.3  \n",
       "6700                    80.7  \n",
       "6708                    84.8  \n",
       "6711                     NaN  \n",
       "6716                     NaN  \n",
       "6732                     NaN  \n",
       "6755                    83.1  \n",
       "6756                    77.5  \n",
       "6759                    79.5  \n",
       "6769                    92.2  \n",
       "6771                     NaN  \n",
       "6774                     NaN  \n",
       "6790                     NaN  "
      ]
     },
     "execution_count": 17,
     "metadata": {},
     "output_type": "execute_result"
    }
   ],
   "source": [
    "#Trim the traiing spaces around city labels\n",
    "expectancy_df.city=expectancy_df.city.str.strip()\n",
    "## filter out the data items with null values\n",
    "expectancy_df[expectancy_df.male_life_expectancy.isnull()==True ]"
   ]
  },
  {
   "cell_type": "code",
   "execution_count": 18,
   "id": "b2d9bdc4-9147-450f-b7d6-b1c3ffa3bc44",
   "metadata": {},
   "outputs": [],
   "source": [
    "#replace empty cells with corresponding mean of specific city and gender\n",
    "for i,cty in enumerate(expectancy_df['city']): \n",
    "    if pd.isnull(expectancy_df.loc[i,'male_life_expectancy']):\n",
    "        expectancy_df.loc[i,'male_life_expectancy']=expectancy_df.query(\"city==@cty\")[\"male_life_expectancy\"].mean()"
   ]
  },
  {
   "cell_type": "code",
   "execution_count": 19,
   "id": "90b01cb6-3e40-41de-b8c9-39ea65a85feb",
   "metadata": {},
   "outputs": [],
   "source": [
    "#replace empty cells with corresponding mean of specific city and gender\n",
    "for i,cty in enumerate(expectancy_df['city']): \n",
    "    if pd.isnull(expectancy_df.loc[i,'female_life_expectancy']):\n",
    "        expectancy_df.loc[i,'female_life_expectancy']=expectancy_df.query(\"city==@cty\")[\"female_life_expectancy\"].mean()"
   ]
  },
  {
   "cell_type": "code",
   "execution_count": 20,
   "id": "5d3fd5b6-f7bd-49dc-8fc7-403c6c7c29e6",
   "metadata": {},
   "outputs": [
    {
     "data": {
      "text/plain": [
       "area_id                   0\n",
       "area_code                 0\n",
       "city                      0\n",
       "male_life_expectancy      0\n",
       "female_life_expectancy    0\n",
       "dtype: int64"
      ]
     },
     "execution_count": 20,
     "metadata": {},
     "output_type": "execute_result"
    }
   ],
   "source": [
    "## check for empty cells\n",
    "expectancy_df.isnull().sum()"
   ]
  },
  {
   "cell_type": "code",
   "execution_count": 21,
   "id": "c2301212-603a-4d3e-889b-e80497efbfe4",
   "metadata": {},
   "outputs": [
    {
     "name": "stdout",
     "output_type": "stream",
     "text": [
      "<class 'pandas.core.frame.DataFrame'>\n",
      "RangeIndex: 6791 entries, 0 to 6790\n",
      "Data columns (total 5 columns):\n",
      " #   Column                  Non-Null Count  Dtype  \n",
      "---  ------                  --------------  -----  \n",
      " 0   area_id                 6791 non-null   object \n",
      " 1   area_code               6791 non-null   object \n",
      " 2   city                    6791 non-null   object \n",
      " 3   male_life_expectancy    6791 non-null   float64\n",
      " 4   female_life_expectancy  6791 non-null   float64\n",
      "dtypes: float64(2), object(3)\n",
      "memory usage: 265.4+ KB\n"
     ]
    }
   ],
   "source": [
    "expectancy_df.info()"
   ]
  },
  {
   "cell_type": "code",
   "execution_count": 22,
   "id": "8af9cb17-a479-4a4f-b5ce-8d8723fced55",
   "metadata": {},
   "outputs": [
    {
     "data": {
      "text/html": [
       "<div>\n",
       "<style scoped>\n",
       "    .dataframe tbody tr th:only-of-type {\n",
       "        vertical-align: middle;\n",
       "    }\n",
       "\n",
       "    .dataframe tbody tr th {\n",
       "        vertical-align: top;\n",
       "    }\n",
       "\n",
       "    .dataframe thead th {\n",
       "        text-align: right;\n",
       "    }\n",
       "</style>\n",
       "<table border=\"1\" class=\"dataframe\">\n",
       "  <thead>\n",
       "    <tr style=\"text-align: right;\">\n",
       "      <th></th>\n",
       "      <th>area_id</th>\n",
       "      <th>area_code</th>\n",
       "      <th>city</th>\n",
       "      <th>male_life_expectancy</th>\n",
       "      <th>female_life_expectancy</th>\n",
       "    </tr>\n",
       "  </thead>\n",
       "  <tbody>\n",
       "  </tbody>\n",
       "</table>\n",
       "</div>"
      ],
      "text/plain": [
       "Empty DataFrame\n",
       "Columns: [area_id, area_code, city, male_life_expectancy, female_life_expectancy]\n",
       "Index: []"
      ]
     },
     "execution_count": 22,
     "metadata": {},
     "output_type": "execute_result"
    }
   ],
   "source": [
    "## check for data items with null values\n",
    "expectancy_df[expectancy_df.male_life_expectancy.isnull()==True ]"
   ]
  },
  {
   "cell_type": "code",
   "execution_count": 23,
   "id": "c9f21df5-02c5-4e81-b4eb-d6a9434adaa1",
   "metadata": {},
   "outputs": [
    {
     "data": {
      "text/html": [
       "<div>\n",
       "<style scoped>\n",
       "    .dataframe tbody tr th:only-of-type {\n",
       "        vertical-align: middle;\n",
       "    }\n",
       "\n",
       "    .dataframe tbody tr th {\n",
       "        vertical-align: top;\n",
       "    }\n",
       "\n",
       "    .dataframe thead th {\n",
       "        text-align: right;\n",
       "    }\n",
       "</style>\n",
       "<table border=\"1\" class=\"dataframe\">\n",
       "  <thead>\n",
       "    <tr style=\"text-align: right;\">\n",
       "      <th></th>\n",
       "      <th>city</th>\n",
       "      <th>male_life_expectancy</th>\n",
       "      <th>female_life_expectancy</th>\n",
       "    </tr>\n",
       "  </thead>\n",
       "  <tbody>\n",
       "    <tr>\n",
       "      <th>0</th>\n",
       "      <td>Adur</td>\n",
       "      <td>81.037500</td>\n",
       "      <td>83.825000</td>\n",
       "    </tr>\n",
       "    <tr>\n",
       "      <th>1</th>\n",
       "      <td>Allerdale</td>\n",
       "      <td>79.491667</td>\n",
       "      <td>82.516667</td>\n",
       "    </tr>\n",
       "    <tr>\n",
       "      <th>2</th>\n",
       "      <td>Amber Valley</td>\n",
       "      <td>79.831250</td>\n",
       "      <td>83.081250</td>\n",
       "    </tr>\n",
       "    <tr>\n",
       "      <th>3</th>\n",
       "      <td>Arun</td>\n",
       "      <td>80.057895</td>\n",
       "      <td>83.873684</td>\n",
       "    </tr>\n",
       "    <tr>\n",
       "      <th>4</th>\n",
       "      <td>Ashfield</td>\n",
       "      <td>78.368750</td>\n",
       "      <td>81.743750</td>\n",
       "    </tr>\n",
       "    <tr>\n",
       "      <th>...</th>\n",
       "      <td>...</td>\n",
       "      <td>...</td>\n",
       "      <td>...</td>\n",
       "    </tr>\n",
       "    <tr>\n",
       "      <th>321</th>\n",
       "      <td>Wychavon</td>\n",
       "      <td>81.247368</td>\n",
       "      <td>85.194737</td>\n",
       "    </tr>\n",
       "    <tr>\n",
       "      <th>322</th>\n",
       "      <td>Wycombe</td>\n",
       "      <td>81.813043</td>\n",
       "      <td>85.795652</td>\n",
       "    </tr>\n",
       "    <tr>\n",
       "      <th>323</th>\n",
       "      <td>Wyre</td>\n",
       "      <td>78.407143</td>\n",
       "      <td>82.514286</td>\n",
       "    </tr>\n",
       "    <tr>\n",
       "      <th>324</th>\n",
       "      <td>Wyre Forest</td>\n",
       "      <td>78.985714</td>\n",
       "      <td>83.407143</td>\n",
       "    </tr>\n",
       "    <tr>\n",
       "      <th>325</th>\n",
       "      <td>York</td>\n",
       "      <td>80.195833</td>\n",
       "      <td>83.766667</td>\n",
       "    </tr>\n",
       "  </tbody>\n",
       "</table>\n",
       "<p>326 rows × 3 columns</p>\n",
       "</div>"
      ],
      "text/plain": [
       "             city  male_life_expectancy  female_life_expectancy\n",
       "0            Adur             81.037500               83.825000\n",
       "1       Allerdale             79.491667               82.516667\n",
       "2    Amber Valley             79.831250               83.081250\n",
       "3            Arun             80.057895               83.873684\n",
       "4        Ashfield             78.368750               81.743750\n",
       "..            ...                   ...                     ...\n",
       "321      Wychavon             81.247368               85.194737\n",
       "322       Wycombe             81.813043               85.795652\n",
       "323          Wyre             78.407143               82.514286\n",
       "324   Wyre Forest             78.985714               83.407143\n",
       "325          York             80.195833               83.766667\n",
       "\n",
       "[326 rows x 3 columns]"
      ]
     },
     "execution_count": 23,
     "metadata": {},
     "output_type": "execute_result"
    }
   ],
   "source": [
    "expectancy_df.groupby(\"city\", as_index=False)[expectancy_df.columns[-2:].to_list()].mean()"
   ]
  },
  {
   "cell_type": "markdown",
   "id": "01b061e3-0a7e-45b6-83f0-b8ad1879d51b",
   "metadata": {},
   "source": [
    "### Action 1\n",
    " __Melt data frame to create a gender column and a single column for gender-specifc life expectancy__"
   ]
  },
  {
   "cell_type": "code",
   "execution_count": 24,
   "id": "816a9c09-063c-453a-9223-993b8b574d38",
   "metadata": {},
   "outputs": [],
   "source": [
    "male_expectancy=expectancy_df.copy()\n",
    "female_expectancy=expectancy_df.copy()"
   ]
  },
  {
   "cell_type": "code",
   "execution_count": 25,
   "id": "be46f356-d446-4fb9-b82f-052aa044f8cd",
   "metadata": {},
   "outputs": [],
   "source": [
    "male_expectancy.insert(3,column=\"gender\",value=\"Male\")\n",
    "male_expectancy.rename({\"male_life_expectancy\":\"life_expectancy\"},axis=1,inplace=True)\n",
    "male_expectancy.drop(\"female_life_expectancy\",axis=1,inplace=True)"
   ]
  },
  {
   "cell_type": "code",
   "execution_count": 26,
   "id": "01c668a3-4865-493c-b6ca-9450b9285ad0",
   "metadata": {},
   "outputs": [],
   "source": [
    "female_expectancy.insert(3,column=\"gender\",value=\"Female\")\n",
    "female_expectancy.rename({\"female_life_expectancy\":\"life_expectancy\"},axis=1,inplace=True)\n",
    "female_expectancy.drop(\"male_life_expectancy\",axis=1,inplace=True)"
   ]
  },
  {
   "cell_type": "code",
   "execution_count": 27,
   "id": "c75f19f6-a677-4257-8a05-2128f84b2c10",
   "metadata": {},
   "outputs": [
    {
     "data": {
      "text/html": [
       "<div>\n",
       "<style scoped>\n",
       "    .dataframe tbody tr th:only-of-type {\n",
       "        vertical-align: middle;\n",
       "    }\n",
       "\n",
       "    .dataframe tbody tr th {\n",
       "        vertical-align: top;\n",
       "    }\n",
       "\n",
       "    .dataframe thead th {\n",
       "        text-align: right;\n",
       "    }\n",
       "</style>\n",
       "<table border=\"1\" class=\"dataframe\">\n",
       "  <thead>\n",
       "    <tr style=\"text-align: right;\">\n",
       "      <th></th>\n",
       "      <th>area_id</th>\n",
       "      <th>area_code</th>\n",
       "      <th>city</th>\n",
       "      <th>gender</th>\n",
       "      <th>life_expectancy</th>\n",
       "    </tr>\n",
       "  </thead>\n",
       "  <tbody>\n",
       "    <tr>\n",
       "      <th>0</th>\n",
       "      <td>E02000001</td>\n",
       "      <td>001</td>\n",
       "      <td>City of London</td>\n",
       "      <td>Female</td>\n",
       "      <td>90.2</td>\n",
       "    </tr>\n",
       "    <tr>\n",
       "      <th>1</th>\n",
       "      <td>E02000002</td>\n",
       "      <td>001</td>\n",
       "      <td>Barking and Dagenham</td>\n",
       "      <td>Female</td>\n",
       "      <td>82.5</td>\n",
       "    </tr>\n",
       "    <tr>\n",
       "      <th>2</th>\n",
       "      <td>E02000003</td>\n",
       "      <td>002</td>\n",
       "      <td>Barking and Dagenham</td>\n",
       "      <td>Female</td>\n",
       "      <td>84.2</td>\n",
       "    </tr>\n",
       "    <tr>\n",
       "      <th>3</th>\n",
       "      <td>E02000004</td>\n",
       "      <td>003</td>\n",
       "      <td>Barking and Dagenham</td>\n",
       "      <td>Female</td>\n",
       "      <td>81.8</td>\n",
       "    </tr>\n",
       "    <tr>\n",
       "      <th>4</th>\n",
       "      <td>E02000005</td>\n",
       "      <td>004</td>\n",
       "      <td>Barking and Dagenham</td>\n",
       "      <td>Female</td>\n",
       "      <td>84.6</td>\n",
       "    </tr>\n",
       "  </tbody>\n",
       "</table>\n",
       "</div>"
      ],
      "text/plain": [
       "     area_id area_code                  city  gender  life_expectancy\n",
       "0  E02000001       001        City of London  Female             90.2\n",
       "1  E02000002       001  Barking and Dagenham  Female             82.5\n",
       "2  E02000003       002  Barking and Dagenham  Female             84.2\n",
       "3  E02000004       003  Barking and Dagenham  Female             81.8\n",
       "4  E02000005       004  Barking and Dagenham  Female             84.6"
      ]
     },
     "execution_count": 27,
     "metadata": {},
     "output_type": "execute_result"
    }
   ],
   "source": [
    "#create female table\n",
    "female_expectancy.head()"
   ]
  },
  {
   "cell_type": "code",
   "execution_count": 28,
   "id": "fc1f5209-c33d-42da-8a3b-9b8ff6de9e79",
   "metadata": {},
   "outputs": [
    {
     "data": {
      "text/html": [
       "<div>\n",
       "<style scoped>\n",
       "    .dataframe tbody tr th:only-of-type {\n",
       "        vertical-align: middle;\n",
       "    }\n",
       "\n",
       "    .dataframe tbody tr th {\n",
       "        vertical-align: top;\n",
       "    }\n",
       "\n",
       "    .dataframe thead th {\n",
       "        text-align: right;\n",
       "    }\n",
       "</style>\n",
       "<table border=\"1\" class=\"dataframe\">\n",
       "  <thead>\n",
       "    <tr style=\"text-align: right;\">\n",
       "      <th></th>\n",
       "      <th>area_id</th>\n",
       "      <th>area_code</th>\n",
       "      <th>city</th>\n",
       "      <th>gender</th>\n",
       "      <th>life_expectancy</th>\n",
       "    </tr>\n",
       "  </thead>\n",
       "  <tbody>\n",
       "    <tr>\n",
       "      <th>0</th>\n",
       "      <td>E02000001</td>\n",
       "      <td>001</td>\n",
       "      <td>City of London</td>\n",
       "      <td>Male</td>\n",
       "      <td>91.1</td>\n",
       "    </tr>\n",
       "    <tr>\n",
       "      <th>1</th>\n",
       "      <td>E02000002</td>\n",
       "      <td>001</td>\n",
       "      <td>Barking and Dagenham</td>\n",
       "      <td>Male</td>\n",
       "      <td>79.5</td>\n",
       "    </tr>\n",
       "    <tr>\n",
       "      <th>2</th>\n",
       "      <td>E02000003</td>\n",
       "      <td>002</td>\n",
       "      <td>Barking and Dagenham</td>\n",
       "      <td>Male</td>\n",
       "      <td>78.1</td>\n",
       "    </tr>\n",
       "    <tr>\n",
       "      <th>3</th>\n",
       "      <td>E02000004</td>\n",
       "      <td>003</td>\n",
       "      <td>Barking and Dagenham</td>\n",
       "      <td>Male</td>\n",
       "      <td>77.6</td>\n",
       "    </tr>\n",
       "    <tr>\n",
       "      <th>4</th>\n",
       "      <td>E02000005</td>\n",
       "      <td>004</td>\n",
       "      <td>Barking and Dagenham</td>\n",
       "      <td>Male</td>\n",
       "      <td>79.2</td>\n",
       "    </tr>\n",
       "  </tbody>\n",
       "</table>\n",
       "</div>"
      ],
      "text/plain": [
       "     area_id area_code                  city gender  life_expectancy\n",
       "0  E02000001       001        City of London   Male             91.1\n",
       "1  E02000002       001  Barking and Dagenham   Male             79.5\n",
       "2  E02000003       002  Barking and Dagenham   Male             78.1\n",
       "3  E02000004       003  Barking and Dagenham   Male             77.6\n",
       "4  E02000005       004  Barking and Dagenham   Male             79.2"
      ]
     },
     "execution_count": 28,
     "metadata": {},
     "output_type": "execute_result"
    }
   ],
   "source": [
    "# create male table\n",
    "male_expectancy.head()"
   ]
  },
  {
   "cell_type": "code",
   "execution_count": 29,
   "id": "e40d0556-c3b9-4987-bbda-730f5e0d7425",
   "metadata": {},
   "outputs": [],
   "source": [
    "#concatenate both male and female tables\n",
    "gender_exp_df=pd.concat([male_expectancy,female_expectancy])\n",
    "\n",
    "#reset table index\n",
    "gender_exp_df.reset_index(drop=True,inplace=True)"
   ]
  },
  {
   "cell_type": "code",
   "execution_count": 30,
   "id": "eeea0f26-a1f1-4fe5-b950-2be81dc69f90",
   "metadata": {},
   "outputs": [
    {
     "data": {
      "text/html": [
       "<div>\n",
       "<style scoped>\n",
       "    .dataframe tbody tr th:only-of-type {\n",
       "        vertical-align: middle;\n",
       "    }\n",
       "\n",
       "    .dataframe tbody tr th {\n",
       "        vertical-align: top;\n",
       "    }\n",
       "\n",
       "    .dataframe thead th {\n",
       "        text-align: right;\n",
       "    }\n",
       "</style>\n",
       "<table border=\"1\" class=\"dataframe\">\n",
       "  <thead>\n",
       "    <tr style=\"text-align: right;\">\n",
       "      <th></th>\n",
       "      <th>area_id</th>\n",
       "      <th>area_code</th>\n",
       "      <th>city</th>\n",
       "      <th>gender</th>\n",
       "      <th>life_expectancy</th>\n",
       "    </tr>\n",
       "  </thead>\n",
       "  <tbody>\n",
       "    <tr>\n",
       "      <th>0</th>\n",
       "      <td>E02000001</td>\n",
       "      <td>001</td>\n",
       "      <td>City of London</td>\n",
       "      <td>Male</td>\n",
       "      <td>91.1</td>\n",
       "    </tr>\n",
       "    <tr>\n",
       "      <th>1</th>\n",
       "      <td>E02000002</td>\n",
       "      <td>001</td>\n",
       "      <td>Barking and Dagenham</td>\n",
       "      <td>Male</td>\n",
       "      <td>79.5</td>\n",
       "    </tr>\n",
       "    <tr>\n",
       "      <th>2</th>\n",
       "      <td>E02000003</td>\n",
       "      <td>002</td>\n",
       "      <td>Barking and Dagenham</td>\n",
       "      <td>Male</td>\n",
       "      <td>78.1</td>\n",
       "    </tr>\n",
       "    <tr>\n",
       "      <th>3</th>\n",
       "      <td>E02000004</td>\n",
       "      <td>003</td>\n",
       "      <td>Barking and Dagenham</td>\n",
       "      <td>Male</td>\n",
       "      <td>77.6</td>\n",
       "    </tr>\n",
       "    <tr>\n",
       "      <th>4</th>\n",
       "      <td>E02000005</td>\n",
       "      <td>004</td>\n",
       "      <td>Barking and Dagenham</td>\n",
       "      <td>Male</td>\n",
       "      <td>79.2</td>\n",
       "    </tr>\n",
       "  </tbody>\n",
       "</table>\n",
       "</div>"
      ],
      "text/plain": [
       "     area_id area_code                  city gender  life_expectancy\n",
       "0  E02000001       001        City of London   Male             91.1\n",
       "1  E02000002       001  Barking and Dagenham   Male             79.5\n",
       "2  E02000003       002  Barking and Dagenham   Male             78.1\n",
       "3  E02000004       003  Barking and Dagenham   Male             77.6\n",
       "4  E02000005       004  Barking and Dagenham   Male             79.2"
      ]
     },
     "execution_count": 30,
     "metadata": {},
     "output_type": "execute_result"
    }
   ],
   "source": [
    "gender_exp_df.head()"
   ]
  },
  {
   "cell_type": "code",
   "execution_count": 31,
   "id": "c66be14e-881c-4677-9445-cceac35654db",
   "metadata": {},
   "outputs": [],
   "source": [
    "#male=gender_exp_df[gender_exp_df['gender']==\"Male\"]['life_expectancy']\n",
    "#female=gender_exp_df[gender_exp_df['gender']==\"Female\"]['life_expectancy']"
   ]
  },
  {
   "cell_type": "code",
   "execution_count": 32,
   "id": "d5ae84c5-8c8b-428e-bb3e-c5e4e3ffdc53",
   "metadata": {},
   "outputs": [
    {
     "data": {
      "text/html": [
       "<div>\n",
       "<style scoped>\n",
       "    .dataframe tbody tr th:only-of-type {\n",
       "        vertical-align: middle;\n",
       "    }\n",
       "\n",
       "    .dataframe tbody tr th {\n",
       "        vertical-align: top;\n",
       "    }\n",
       "\n",
       "    .dataframe thead th {\n",
       "        text-align: right;\n",
       "    }\n",
       "</style>\n",
       "<table border=\"1\" class=\"dataframe\">\n",
       "  <thead>\n",
       "    <tr style=\"text-align: right;\">\n",
       "      <th></th>\n",
       "      <th>area_id</th>\n",
       "      <th>area_code</th>\n",
       "      <th>city</th>\n",
       "      <th>gender</th>\n",
       "      <th>life_expectancy</th>\n",
       "    </tr>\n",
       "  </thead>\n",
       "  <tbody>\n",
       "    <tr>\n",
       "      <th>0</th>\n",
       "      <td>E02000001</td>\n",
       "      <td>001</td>\n",
       "      <td>City of London</td>\n",
       "      <td>Male</td>\n",
       "      <td>91.1</td>\n",
       "    </tr>\n",
       "    <tr>\n",
       "      <th>1</th>\n",
       "      <td>E02000002</td>\n",
       "      <td>001</td>\n",
       "      <td>Barking and Dagenham</td>\n",
       "      <td>Male</td>\n",
       "      <td>79.5</td>\n",
       "    </tr>\n",
       "    <tr>\n",
       "      <th>2</th>\n",
       "      <td>E02000003</td>\n",
       "      <td>002</td>\n",
       "      <td>Barking and Dagenham</td>\n",
       "      <td>Male</td>\n",
       "      <td>78.1</td>\n",
       "    </tr>\n",
       "    <tr>\n",
       "      <th>3</th>\n",
       "      <td>E02000004</td>\n",
       "      <td>003</td>\n",
       "      <td>Barking and Dagenham</td>\n",
       "      <td>Male</td>\n",
       "      <td>77.6</td>\n",
       "    </tr>\n",
       "    <tr>\n",
       "      <th>4</th>\n",
       "      <td>E02000005</td>\n",
       "      <td>004</td>\n",
       "      <td>Barking and Dagenham</td>\n",
       "      <td>Male</td>\n",
       "      <td>79.2</td>\n",
       "    </tr>\n",
       "  </tbody>\n",
       "</table>\n",
       "</div>"
      ],
      "text/plain": [
       "     area_id area_code                  city gender  life_expectancy\n",
       "0  E02000001       001        City of London   Male             91.1\n",
       "1  E02000002       001  Barking and Dagenham   Male             79.5\n",
       "2  E02000003       002  Barking and Dagenham   Male             78.1\n",
       "3  E02000004       003  Barking and Dagenham   Male             77.6\n",
       "4  E02000005       004  Barking and Dagenham   Male             79.2"
      ]
     },
     "execution_count": 32,
     "metadata": {},
     "output_type": "execute_result"
    }
   ],
   "source": [
    "gender_exp_df.head()"
   ]
  },
  {
   "cell_type": "code",
   "execution_count": 33,
   "id": "599194e9-0b9d-40f1-83a6-d77242a3453a",
   "metadata": {},
   "outputs": [],
   "source": [
    "#make a copy of cleaned dataset\n",
    "df = gender_exp_df.copy()"
   ]
  },
  {
   "cell_type": "markdown",
   "id": "15e3ed8c-6df0-47b0-9c94-43c6bdcf4b94",
   "metadata": {
    "tags": []
   },
   "source": [
    "# Exploratory Analysis\n",
    "***\n",
    "This section focuses on systematic data exploration, beginning with univariate data and progressing to bivariate and multivariate data. Beginning with univariate visualizations, dig down to multivariate visualizations while asking pertinent questions and noting the observable properties of the visualizations. Given the data presented with, the need to use multivariate visualizations may not arise"
   ]
  },
  {
   "cell_type": "markdown",
   "id": "dbd9dc2b-e61d-4483-9694-1c3c93dd0599",
   "metadata": {},
   "source": [
    "### Univariate Analysis\n",
    "***\n",
    "The Life expectancy is the key variable in this dataset. Visualizing the distributions is the first step in the direction of the data exploration."
   ]
  },
  {
   "cell_type": "markdown",
   "id": "2104d2cb-92a5-43a0-84f1-7b04c1d24416",
   "metadata": {},
   "source": [
    "### What is the distribution of life expectancy in England generally?"
   ]
  },
  {
   "cell_type": "code",
   "execution_count": 34,
   "id": "be453c96-6a8b-4358-be89-a30bb6156225",
   "metadata": {},
   "outputs": [
    {
     "data": {
      "image/png": "[encoded data removed]",
      "text/plain": [
       "<Figure size 720x576 with 1 Axes>"
      ]
     },
     "metadata": {
      "needs_background": "light"
     },
     "output_type": "display_data"
    }
   ],
   "source": [
    "fig,ax=plt.subplots(figsize=(10,8))\n",
    "m_mean = df.query(\"gender == 'Male'\")['life_expectancy'].mean()\n",
    "f_mean = df.query(\"gender == 'Female'\")['life_expectancy'].mean()\n",
    "\n",
    "plt.hist(data=df.query(\"gender == 'Male'\"), x='life_expectancy', bins=30, label='Male', alpha=0.5)\n",
    "plt.hist(data=df.query(\"gender == 'Female'\"), x='life_expectancy', bins=30, label='Female', alpha=0.5)\n",
    "plt.axvline(x=m_mean, color='blue')\n",
    "plt.axvline(x=f_mean,color='#AF0B1E')\n",
    "plt.text(75.6,900,\"Male=79.6\",size=10,name=\"Verdana\")\n",
    "plt.text(84.5,900,\"Female=83.5\",size=10,name=\"Verdana\")\n",
    "plt.title(\"The Distribution of Life Expectancy at Birth in England\",size=20,name=\"Verdana\")\n",
    "plt.xlabel(\"Life Expectancy at Birth\",size=14,name=\"Verdana\")\n",
    "plt.ylabel(\"Frequency\",size=14,name=\"Verdana\")\n",
    "sns.despine()\n",
    "plt.legend();"
   ]
  },
  {
   "cell_type": "markdown",
   "id": "d45afccc-b61b-4797-a421-d87d5d464727",
   "metadata": {},
   "source": [
    ">Life expectancy is unimodal and follows a normal distribution, with male peaks at 79 and female peaks around 83.\n",
    "\n",
    ">Clearly, the life expectancy at birth in England spans from 64 to 98 years.\n",
    "\n",
    ">In most circumstances, females tend to have a longer life expectancy than males."
   ]
  },
  {
   "cell_type": "markdown",
   "id": "7af7d9c8-a9f9-4dbf-9bb4-4a0dcfb45d15",
   "metadata": {},
   "source": [
    "### How probable is the life expectancy going to be higer for females across the cities in England?"
   ]
  },
  {
   "cell_type": "code",
   "execution_count": 35,
   "id": "bcc0769a-3e9a-47d3-adaf-b3a28abfb743",
   "metadata": {},
   "outputs": [
    {
     "data": {
      "image/png": "[encoded data removed]",
      "text/plain": [
       "<Figure size 432x288 with 1 Axes>"
      ]
     },
     "metadata": {
      "needs_background": "light"
     },
     "output_type": "display_data"
    }
   ],
   "source": [
    "sns.kdeplot(data=df, x='life_expectancy', hue='gender');\n",
    "plt.xlabel(\"Life Expectancy\")\n",
    "sns.despine()"
   ]
  },
  {
   "cell_type": "markdown",
   "id": "35fd84ad-bb49-4416-8ddc-fe1c94cd7790",
   "metadata": {},
   "source": [
    "> The area under the curve by extimation dipicts that females are likely going to have higher life expectancy than their male counterparts"
   ]
  },
  {
   "cell_type": "code",
   "execution_count": 36,
   "id": "d283944b-cbfd-4be4-aee6-c74aaba53e61",
   "metadata": {},
   "outputs": [
    {
     "data": {
      "text/html": [
       "<div>\n",
       "<style scoped>\n",
       "    .dataframe tbody tr th:only-of-type {\n",
       "        vertical-align: middle;\n",
       "    }\n",
       "\n",
       "    .dataframe tbody tr th {\n",
       "        vertical-align: top;\n",
       "    }\n",
       "\n",
       "    .dataframe thead th {\n",
       "        text-align: right;\n",
       "    }\n",
       "</style>\n",
       "<table border=\"1\" class=\"dataframe\">\n",
       "  <thead>\n",
       "    <tr style=\"text-align: right;\">\n",
       "      <th></th>\n",
       "      <th>city</th>\n",
       "      <th>gender</th>\n",
       "      <th>life_expectancy</th>\n",
       "    </tr>\n",
       "  </thead>\n",
       "  <tbody>\n",
       "    <tr>\n",
       "      <th>0</th>\n",
       "      <td>Adur</td>\n",
       "      <td>Female</td>\n",
       "      <td>83.825000</td>\n",
       "    </tr>\n",
       "    <tr>\n",
       "      <th>1</th>\n",
       "      <td>Adur</td>\n",
       "      <td>Male</td>\n",
       "      <td>81.037500</td>\n",
       "    </tr>\n",
       "    <tr>\n",
       "      <th>2</th>\n",
       "      <td>Allerdale</td>\n",
       "      <td>Female</td>\n",
       "      <td>82.516667</td>\n",
       "    </tr>\n",
       "    <tr>\n",
       "      <th>3</th>\n",
       "      <td>Allerdale</td>\n",
       "      <td>Male</td>\n",
       "      <td>79.491667</td>\n",
       "    </tr>\n",
       "    <tr>\n",
       "      <th>4</th>\n",
       "      <td>Amber Valley</td>\n",
       "      <td>Female</td>\n",
       "      <td>83.081250</td>\n",
       "    </tr>\n",
       "  </tbody>\n",
       "</table>\n",
       "</div>"
      ],
      "text/plain": [
       "           city  gender  life_expectancy\n",
       "0          Adur  Female        83.825000\n",
       "1          Adur    Male        81.037500\n",
       "2     Allerdale  Female        82.516667\n",
       "3     Allerdale    Male        79.491667\n",
       "4  Amber Valley  Female        83.081250"
      ]
     },
     "execution_count": 36,
     "metadata": {},
     "output_type": "execute_result"
    }
   ],
   "source": [
    "grouped = df.groupby(['city', 'gender'])[['life_expectancy']].mean().reset_index()\n",
    "grouped.head()"
   ]
  },
  {
   "cell_type": "markdown",
   "id": "054afee1-ffb2-400f-8694-ed5fbfbc4b76",
   "metadata": {},
   "source": [
    "### In how many cities is life female life expectancy higher than the males?"
   ]
  },
  {
   "cell_type": "code",
   "execution_count": 37,
   "id": "c506b5b7-6d64-49ee-8fd2-efba0ece3fb4",
   "metadata": {},
   "outputs": [
    {
     "name": "stdout",
     "output_type": "stream",
     "text": [
      "Females have higher life expectancy than males in 325 of the 326 cities in the dataset\n"
     ]
    }
   ],
   "source": [
    "compare = expectancy_df.iloc[:, 2:]\n",
    "compare = compare.groupby('city').mean()\n",
    "compare['female_higher'] = compare.female_life_expectancy > compare.male_life_expectancy\n",
    "print('Females have higher life expectancy than males in {} of the {} cities in the dataset'.format(compare.female_higher.sum(),compare.shape[0]))"
   ]
  },
  {
   "cell_type": "code",
   "execution_count": 38,
   "id": "da965f30-6b25-4e2e-8ce4-92ea94aae13d",
   "metadata": {},
   "outputs": [
    {
     "data": {
      "text/html": [
       "<div>\n",
       "<style scoped>\n",
       "    .dataframe tbody tr th:only-of-type {\n",
       "        vertical-align: middle;\n",
       "    }\n",
       "\n",
       "    .dataframe tbody tr th {\n",
       "        vertical-align: top;\n",
       "    }\n",
       "\n",
       "    .dataframe thead th {\n",
       "        text-align: right;\n",
       "    }\n",
       "</style>\n",
       "<table border=\"1\" class=\"dataframe\">\n",
       "  <thead>\n",
       "    <tr style=\"text-align: right;\">\n",
       "      <th></th>\n",
       "      <th>male_life_expectancy</th>\n",
       "      <th>female_life_expectancy</th>\n",
       "      <th>female_higher</th>\n",
       "    </tr>\n",
       "    <tr>\n",
       "      <th>city</th>\n",
       "      <th></th>\n",
       "      <th></th>\n",
       "      <th></th>\n",
       "    </tr>\n",
       "  </thead>\n",
       "  <tbody>\n",
       "    <tr>\n",
       "      <th>City of London</th>\n",
       "      <td>91.1</td>\n",
       "      <td>90.2</td>\n",
       "      <td>False</td>\n",
       "    </tr>\n",
       "  </tbody>\n",
       "</table>\n",
       "</div>"
      ],
      "text/plain": [
       "                male_life_expectancy  female_life_expectancy  female_higher\n",
       "city                                                                       \n",
       "City of London                  91.1                    90.2          False"
      ]
     },
     "execution_count": 38,
     "metadata": {},
     "output_type": "execute_result"
    }
   ],
   "source": [
    "compare[compare.female_higher == False]"
   ]
  },
  {
   "cell_type": "markdown",
   "id": "61470a6c-84ea-499b-ae56-9f1221e02db5",
   "metadata": {},
   "source": [
    ">Surprisingly, only in the City of London is male life expectancy higher than female life expectancy.\n",
    "\n",
    ">Clearly, females have a 99.7% chance of living longer lives in any place in England."
   ]
  },
  {
   "cell_type": "markdown",
   "id": "37738d46-eac9-4a48-bae9-99fe30887cb7",
   "metadata": {},
   "source": [
    "### What is then the average life expectancy at birth in England?"
   ]
  },
  {
   "cell_type": "code",
   "execution_count": 39,
   "id": "b25f19fb-2192-41ba-8070-4b5ae39e9d77",
   "metadata": {
    "tags": []
   },
   "outputs": [
    {
     "name": "stdout",
     "output_type": "stream",
     "text": [
      "The average life expectancy in England is 81.57 \n"
     ]
    }
   ],
   "source": [
    "england_life_expectancy=round(np.mean([f_mean,m_mean]),2)\n",
    "print('The average life expectancy in England is {} '.format(england_life_expectancy))\n"
   ]
  },
  {
   "cell_type": "markdown",
   "id": "f6a4b080-fe97-4744-8031-517866dc1882",
   "metadata": {},
   "source": [
    "### How many cities have life expectancy at birth above the average life expectancy in England?"
   ]
  },
  {
   "cell_type": "code",
   "execution_count": 40,
   "id": "31233ffb-0e13-4e6c-80a6-3f63dd05490e",
   "metadata": {},
   "outputs": [],
   "source": [
    "city_exp=gender_exp_df.groupby(\"city\",as_index=False)[\"life_expectancy\"].mean()\n",
    "city_exp[\"above_average\"]=city_exp.life_expectancy>england_life_expectancy\n"
   ]
  },
  {
   "cell_type": "code",
   "execution_count": 41,
   "id": "ee3f26ee-85e2-43c2-9a8a-0f42cc01806b",
   "metadata": {},
   "outputs": [
    {
     "name": "stdout",
     "output_type": "stream",
     "text": [
      "193 cities have life expectancy above the average life expectancy in England\n"
     ]
    }
   ],
   "source": [
    "print('{} cities have life expectancy above the average life expectancy in England'.format(city_exp.query(\"above_average==True\")['above_average'].count()))"
   ]
  },
  {
   "cell_type": "markdown",
   "id": "651b6642-856c-4d0a-be87-590742ecc914",
   "metadata": {},
   "source": [
    "### How many cities have life expectanacy at birth below the average life expectancy in England"
   ]
  },
  {
   "cell_type": "code",
   "execution_count": 42,
   "id": "001dc54a-49ff-42c2-9e52-c68a18cd2409",
   "metadata": {},
   "outputs": [
    {
     "name": "stdout",
     "output_type": "stream",
     "text": [
      "133 cities have life expectancy below the average life expectancy in England\n"
     ]
    }
   ],
   "source": [
    "print('{} cities have life expectancy below the average life expectancy in England'.format(city_exp.query(\"above_average==False\")['above_average'].count()))"
   ]
  },
  {
   "cell_type": "markdown",
   "id": "a864ccb8-387d-4872-9d43-0a9542e4c06f",
   "metadata": {},
   "source": [
    "### What are the top 5 cities to live long in England?"
   ]
  },
  {
   "cell_type": "code",
   "execution_count": 43,
   "id": "3165c55b-9149-44a8-9040-b97ddcea45fa",
   "metadata": {},
   "outputs": [],
   "source": [
    "#city_exp.above_average.value_counts()"
   ]
  },
  {
   "cell_type": "code",
   "execution_count": 44,
   "id": "7df924f5-6c86-4aee-ad77-933ef2ac55dd",
   "metadata": {},
   "outputs": [],
   "source": [
    "above_avg=city_exp.query(\"above_average==True\")\n",
    "above_avg.sort_values(\"life_expectancy\",ascending=False).reset_index(drop=True,inplace=True)\n",
    "below_avg=city_exp.query(\"above_average==False\")"
   ]
  },
  {
   "cell_type": "code",
   "execution_count": 45,
   "id": "2bb7872d-d96c-49e4-934d-2a5705b09e47",
   "metadata": {},
   "outputs": [
    {
     "data": {
      "text/html": [
       "<div>\n",
       "<style scoped>\n",
       "    .dataframe tbody tr th:only-of-type {\n",
       "        vertical-align: middle;\n",
       "    }\n",
       "\n",
       "    .dataframe tbody tr th {\n",
       "        vertical-align: top;\n",
       "    }\n",
       "\n",
       "    .dataframe thead th {\n",
       "        text-align: right;\n",
       "    }\n",
       "</style>\n",
       "<table border=\"1\" class=\"dataframe\">\n",
       "  <thead>\n",
       "    <tr style=\"text-align: right;\">\n",
       "      <th></th>\n",
       "      <th>city</th>\n",
       "      <th>life_expectancy</th>\n",
       "      <th>above_average</th>\n",
       "    </tr>\n",
       "  </thead>\n",
       "  <tbody>\n",
       "    <tr>\n",
       "      <th>60</th>\n",
       "      <td>City of London</td>\n",
       "      <td>90.650000</td>\n",
       "      <td>True</td>\n",
       "    </tr>\n",
       "    <tr>\n",
       "      <th>137</th>\n",
       "      <td>Isles of Scilly</td>\n",
       "      <td>86.300000</td>\n",
       "      <td>True</td>\n",
       "    </tr>\n",
       "    <tr>\n",
       "      <th>139</th>\n",
       "      <td>Kensington and Chelsea</td>\n",
       "      <td>85.797619</td>\n",
       "      <td>True</td>\n",
       "    </tr>\n",
       "    <tr>\n",
       "      <th>309</th>\n",
       "      <td>Westminster</td>\n",
       "      <td>85.777083</td>\n",
       "      <td>True</td>\n",
       "    </tr>\n",
       "    <tr>\n",
       "      <th>43</th>\n",
       "      <td>Camden</td>\n",
       "      <td>85.460302</td>\n",
       "      <td>True</td>\n",
       "    </tr>\n",
       "  </tbody>\n",
       "</table>\n",
       "</div>"
      ],
      "text/plain": [
       "                       city  life_expectancy  above_average\n",
       "60           City of London        90.650000           True\n",
       "137         Isles of Scilly        86.300000           True\n",
       "139  Kensington and Chelsea        85.797619           True\n",
       "309             Westminster        85.777083           True\n",
       "43                   Camden        85.460302           True"
      ]
     },
     "execution_count": 45,
     "metadata": {},
     "output_type": "execute_result"
    }
   ],
   "source": [
    "above_avg.sort_values(\"life_expectancy\",ascending=False).head()"
   ]
  },
  {
   "cell_type": "markdown",
   "id": "c0382b4a-0a2a-4c9f-a8f7-259753df1627",
   "metadata": {},
   "source": [
    "### What are the worst 5 cities to live in England with regard to life expectancy?"
   ]
  },
  {
   "cell_type": "code",
   "execution_count": 46,
   "id": "3ce8e34c-8f11-430b-869b-d972c773b53f",
   "metadata": {},
   "outputs": [
    {
     "data": {
      "text/html": [
       "<div>\n",
       "<style scoped>\n",
       "    .dataframe tbody tr th:only-of-type {\n",
       "        vertical-align: middle;\n",
       "    }\n",
       "\n",
       "    .dataframe tbody tr th {\n",
       "        vertical-align: top;\n",
       "    }\n",
       "\n",
       "    .dataframe thead th {\n",
       "        text-align: right;\n",
       "    }\n",
       "</style>\n",
       "<table border=\"1\" class=\"dataframe\">\n",
       "  <thead>\n",
       "    <tr style=\"text-align: right;\">\n",
       "      <th></th>\n",
       "      <th>city</th>\n",
       "      <th>life_expectancy</th>\n",
       "      <th>above_average</th>\n",
       "    </tr>\n",
       "  </thead>\n",
       "  <tbody>\n",
       "    <tr>\n",
       "      <th>239</th>\n",
       "      <td>South Holland</td>\n",
       "      <td>81.550000</td>\n",
       "      <td>False</td>\n",
       "    </tr>\n",
       "    <tr>\n",
       "      <th>320</th>\n",
       "      <td>Worthing</td>\n",
       "      <td>81.546154</td>\n",
       "      <td>False</td>\n",
       "    </tr>\n",
       "    <tr>\n",
       "      <th>97</th>\n",
       "      <td>Erewash</td>\n",
       "      <td>81.480000</td>\n",
       "      <td>False</td>\n",
       "    </tr>\n",
       "    <tr>\n",
       "      <th>284</th>\n",
       "      <td>Torridge</td>\n",
       "      <td>81.477778</td>\n",
       "      <td>False</td>\n",
       "    </tr>\n",
       "    <tr>\n",
       "      <th>2</th>\n",
       "      <td>Amber Valley</td>\n",
       "      <td>81.456250</td>\n",
       "      <td>False</td>\n",
       "    </tr>\n",
       "  </tbody>\n",
       "</table>\n",
       "</div>"
      ],
      "text/plain": [
       "              city  life_expectancy  above_average\n",
       "239  South Holland        81.550000          False\n",
       "320       Worthing        81.546154          False\n",
       "97         Erewash        81.480000          False\n",
       "284       Torridge        81.477778          False\n",
       "2     Amber Valley        81.456250          False"
      ]
     },
     "execution_count": 46,
     "metadata": {},
     "output_type": "execute_result"
    }
   ],
   "source": [
    "below_avg.sort_values(\"life_expectancy\",ascending=False).head()"
   ]
  },
  {
   "cell_type": "code",
   "execution_count": 47,
   "id": "52117a04-9dea-48ff-96be-1be05a4c0b28",
   "metadata": {},
   "outputs": [
    {
     "data": {
      "text/html": [
       "<div>\n",
       "<style scoped>\n",
       "    .dataframe tbody tr th:only-of-type {\n",
       "        vertical-align: middle;\n",
       "    }\n",
       "\n",
       "    .dataframe tbody tr th {\n",
       "        vertical-align: top;\n",
       "    }\n",
       "\n",
       "    .dataframe thead th {\n",
       "        text-align: right;\n",
       "    }\n",
       "</style>\n",
       "<table border=\"1\" class=\"dataframe\">\n",
       "  <thead>\n",
       "    <tr style=\"text-align: right;\">\n",
       "      <th></th>\n",
       "      <th>city</th>\n",
       "      <th>life_expectancy</th>\n",
       "      <th>above_average</th>\n",
       "    </tr>\n",
       "  </thead>\n",
       "  <tbody>\n",
       "    <tr>\n",
       "      <th>1</th>\n",
       "      <td>Allerdale</td>\n",
       "      <td>81.004167</td>\n",
       "      <td>False</td>\n",
       "    </tr>\n",
       "    <tr>\n",
       "      <th>2</th>\n",
       "      <td>Amber Valley</td>\n",
       "      <td>81.456250</td>\n",
       "      <td>False</td>\n",
       "    </tr>\n",
       "    <tr>\n",
       "      <th>4</th>\n",
       "      <td>Ashfield</td>\n",
       "      <td>80.056250</td>\n",
       "      <td>False</td>\n",
       "    </tr>\n",
       "    <tr>\n",
       "      <th>8</th>\n",
       "      <td>Barking and Dagenham</td>\n",
       "      <td>80.176190</td>\n",
       "      <td>False</td>\n",
       "    </tr>\n",
       "    <tr>\n",
       "      <th>10</th>\n",
       "      <td>Barnsley</td>\n",
       "      <td>79.925000</td>\n",
       "      <td>False</td>\n",
       "    </tr>\n",
       "    <tr>\n",
       "      <th>...</th>\n",
       "      <td>...</td>\n",
       "      <td>...</td>\n",
       "      <td>...</td>\n",
       "    </tr>\n",
       "    <tr>\n",
       "      <th>318</th>\n",
       "      <td>Wolverhampton</td>\n",
       "      <td>79.407576</td>\n",
       "      <td>False</td>\n",
       "    </tr>\n",
       "    <tr>\n",
       "      <th>319</th>\n",
       "      <td>Worcester</td>\n",
       "      <td>81.250000</td>\n",
       "      <td>False</td>\n",
       "    </tr>\n",
       "    <tr>\n",
       "      <th>320</th>\n",
       "      <td>Worthing</td>\n",
       "      <td>81.546154</td>\n",
       "      <td>False</td>\n",
       "    </tr>\n",
       "    <tr>\n",
       "      <th>323</th>\n",
       "      <td>Wyre</td>\n",
       "      <td>80.460714</td>\n",
       "      <td>False</td>\n",
       "    </tr>\n",
       "    <tr>\n",
       "      <th>324</th>\n",
       "      <td>Wyre Forest</td>\n",
       "      <td>81.196429</td>\n",
       "      <td>False</td>\n",
       "    </tr>\n",
       "  </tbody>\n",
       "</table>\n",
       "<p>133 rows × 3 columns</p>\n",
       "</div>"
      ],
      "text/plain": [
       "                     city  life_expectancy  above_average\n",
       "1               Allerdale        81.004167          False\n",
       "2            Amber Valley        81.456250          False\n",
       "4                Ashfield        80.056250          False\n",
       "8    Barking and Dagenham        80.176190          False\n",
       "10               Barnsley        79.925000          False\n",
       "..                    ...              ...            ...\n",
       "318         Wolverhampton        79.407576          False\n",
       "319             Worcester        81.250000          False\n",
       "320              Worthing        81.546154          False\n",
       "323                  Wyre        80.460714          False\n",
       "324           Wyre Forest        81.196429          False\n",
       "\n",
       "[133 rows x 3 columns]"
      ]
     },
     "execution_count": 47,
     "metadata": {},
     "output_type": "execute_result"
    }
   ],
   "source": [
    "below_avg"
   ]
  },
  {
   "cell_type": "code",
   "execution_count": 48,
   "id": "81df23cd-c8b2-46a2-8ad9-75ad6051f1f9",
   "metadata": {},
   "outputs": [],
   "source": [
    "#plt.barh(below_avg[\"city\"],below_avg[\"diff\"])"
   ]
  },
  {
   "cell_type": "code",
   "execution_count": 49,
   "id": "86636639-fbfd-4049-ad93-641001a35e02",
   "metadata": {},
   "outputs": [],
   "source": [
    "#below_avg[\"diff\"]"
   ]
  },
  {
   "cell_type": "code",
   "execution_count": 50,
   "id": "eeffded0-7de7-4426-a2c3-ba3764fc5781",
   "metadata": {},
   "outputs": [],
   "source": [
    "# ## find the iniquaity gap in life expectancy below the mean\n",
    "# below_c=below_avg.copy()\n",
    "# below_c['diff']=round(england_life_expectancy-below_avg['life_expectancy'],2)\n",
    "# xb=below_c.sort_values(\"diff\",ascending=True).tail(10)\n",
    "# xb.head()"
   ]
  },
  {
   "cell_type": "code",
   "execution_count": null,
   "id": "579ea0ab-575c-4785-9a26-39312f481b2f",
   "metadata": {},
   "outputs": [],
   "source": []
  },
  {
   "cell_type": "code",
   "execution_count": 51,
   "id": "abdd19d7-16ec-4227-9e76-c59e430d08b5",
   "metadata": {},
   "outputs": [
    {
     "data": {
      "text/html": [
       "<div>\n",
       "<style scoped>\n",
       "    .dataframe tbody tr th:only-of-type {\n",
       "        vertical-align: middle;\n",
       "    }\n",
       "\n",
       "    .dataframe tbody tr th {\n",
       "        vertical-align: top;\n",
       "    }\n",
       "\n",
       "    .dataframe thead th {\n",
       "        text-align: right;\n",
       "    }\n",
       "</style>\n",
       "<table border=\"1\" class=\"dataframe\">\n",
       "  <thead>\n",
       "    <tr style=\"text-align: right;\">\n",
       "      <th></th>\n",
       "      <th>city</th>\n",
       "      <th>life_expectancy</th>\n",
       "      <th>above_average</th>\n",
       "      <th>diff</th>\n",
       "    </tr>\n",
       "  </thead>\n",
       "  <tbody>\n",
       "    <tr>\n",
       "      <th>0</th>\n",
       "      <td>Adur</td>\n",
       "      <td>82.431250</td>\n",
       "      <td>True</td>\n",
       "      <td>0.86</td>\n",
       "    </tr>\n",
       "    <tr>\n",
       "      <th>3</th>\n",
       "      <td>Arun</td>\n",
       "      <td>81.965789</td>\n",
       "      <td>True</td>\n",
       "      <td>0.40</td>\n",
       "    </tr>\n",
       "    <tr>\n",
       "      <th>5</th>\n",
       "      <td>Ashford</td>\n",
       "      <td>82.321429</td>\n",
       "      <td>True</td>\n",
       "      <td>0.75</td>\n",
       "    </tr>\n",
       "    <tr>\n",
       "      <th>6</th>\n",
       "      <td>Aylesbury Vale</td>\n",
       "      <td>82.850000</td>\n",
       "      <td>True</td>\n",
       "      <td>1.28</td>\n",
       "    </tr>\n",
       "    <tr>\n",
       "      <th>7</th>\n",
       "      <td>Babergh</td>\n",
       "      <td>83.368182</td>\n",
       "      <td>True</td>\n",
       "      <td>1.80</td>\n",
       "    </tr>\n",
       "  </tbody>\n",
       "</table>\n",
       "</div>"
      ],
      "text/plain": [
       "             city  life_expectancy  above_average  diff\n",
       "0            Adur        82.431250           True  0.86\n",
       "3            Arun        81.965789           True  0.40\n",
       "5         Ashford        82.321429           True  0.75\n",
       "6  Aylesbury Vale        82.850000           True  1.28\n",
       "7         Babergh        83.368182           True  1.80"
      ]
     },
     "execution_count": 51,
     "metadata": {},
     "output_type": "execute_result"
    }
   ],
   "source": [
    "## find the iniquaity gap in life expectancy below the mean\n",
    "above_c=above_avg.copy()\n",
    "above_c['diff']=round(above_avg['life_expectancy']-england_life_expectancy,2)\n",
    "above_c.head()"
   ]
  },
  {
   "cell_type": "markdown",
   "id": "d9dbdc5c-c499-4b71-94d1-a1780a7f7d41",
   "metadata": {},
   "source": [
    "### What is the disparity in Life expectancy at birth in England's Top cities?"
   ]
  },
  {
   "cell_type": "code",
   "execution_count": 52,
   "id": "392d3259-6ca1-4325-acbe-f421ebb67b1e",
   "metadata": {},
   "outputs": [
    {
     "data": {
      "text/html": [
       "<div>\n",
       "<style scoped>\n",
       "    .dataframe tbody tr th:only-of-type {\n",
       "        vertical-align: middle;\n",
       "    }\n",
       "\n",
       "    .dataframe tbody tr th {\n",
       "        vertical-align: top;\n",
       "    }\n",
       "\n",
       "    .dataframe thead th {\n",
       "        text-align: right;\n",
       "    }\n",
       "</style>\n",
       "<table border=\"1\" class=\"dataframe\">\n",
       "  <thead>\n",
       "    <tr style=\"text-align: right;\">\n",
       "      <th></th>\n",
       "      <th>city</th>\n",
       "      <th>life_expectancy</th>\n",
       "      <th>above_average</th>\n",
       "      <th>diff</th>\n",
       "    </tr>\n",
       "  </thead>\n",
       "  <tbody>\n",
       "    <tr>\n",
       "      <th>289</th>\n",
       "      <td>Vale of White Horse</td>\n",
       "      <td>84.439286</td>\n",
       "      <td>True</td>\n",
       "      <td>2.87</td>\n",
       "    </tr>\n",
       "    <tr>\n",
       "      <th>235</th>\n",
       "      <td>South Cambridgeshire</td>\n",
       "      <td>84.542500</td>\n",
       "      <td>True</td>\n",
       "      <td>2.97</td>\n",
       "    </tr>\n",
       "    <tr>\n",
       "      <th>209</th>\n",
       "      <td>Richmond upon Thames</td>\n",
       "      <td>84.563043</td>\n",
       "      <td>True</td>\n",
       "      <td>2.99</td>\n",
       "    </tr>\n",
       "    <tr>\n",
       "      <th>120</th>\n",
       "      <td>Harrow</td>\n",
       "      <td>84.633333</td>\n",
       "      <td>True</td>\n",
       "      <td>3.06</td>\n",
       "    </tr>\n",
       "    <tr>\n",
       "      <th>121</th>\n",
       "      <td>Hart</td>\n",
       "      <td>84.663636</td>\n",
       "      <td>True</td>\n",
       "      <td>3.09</td>\n",
       "    </tr>\n",
       "    <tr>\n",
       "      <th>43</th>\n",
       "      <td>Camden</td>\n",
       "      <td>85.460302</td>\n",
       "      <td>True</td>\n",
       "      <td>3.89</td>\n",
       "    </tr>\n",
       "    <tr>\n",
       "      <th>309</th>\n",
       "      <td>Westminster</td>\n",
       "      <td>85.777083</td>\n",
       "      <td>True</td>\n",
       "      <td>4.21</td>\n",
       "    </tr>\n",
       "    <tr>\n",
       "      <th>139</th>\n",
       "      <td>Kensington and Chelsea</td>\n",
       "      <td>85.797619</td>\n",
       "      <td>True</td>\n",
       "      <td>4.23</td>\n",
       "    </tr>\n",
       "    <tr>\n",
       "      <th>137</th>\n",
       "      <td>Isles of Scilly</td>\n",
       "      <td>86.300000</td>\n",
       "      <td>True</td>\n",
       "      <td>4.73</td>\n",
       "    </tr>\n",
       "    <tr>\n",
       "      <th>60</th>\n",
       "      <td>City of London</td>\n",
       "      <td>90.650000</td>\n",
       "      <td>True</td>\n",
       "      <td>9.08</td>\n",
       "    </tr>\n",
       "  </tbody>\n",
       "</table>\n",
       "</div>"
      ],
      "text/plain": [
       "                       city  life_expectancy  above_average  diff\n",
       "289     Vale of White Horse        84.439286           True  2.87\n",
       "235    South Cambridgeshire        84.542500           True  2.97\n",
       "209    Richmond upon Thames        84.563043           True  2.99\n",
       "120                  Harrow        84.633333           True  3.06\n",
       "121                    Hart        84.663636           True  3.09\n",
       "43                   Camden        85.460302           True  3.89\n",
       "309             Westminster        85.777083           True  4.21\n",
       "139  Kensington and Chelsea        85.797619           True  4.23\n",
       "137         Isles of Scilly        86.300000           True  4.73\n",
       "60           City of London        90.650000           True  9.08"
      ]
     },
     "execution_count": 52,
     "metadata": {},
     "output_type": "execute_result"
    }
   ],
   "source": [
    "xa=above_c.sort_values(\"diff\",ascending=True).tail(10)\n",
    "xa"
   ]
  },
  {
   "cell_type": "code",
   "execution_count": 53,
   "id": "287aabb1-0b9b-42f8-b8d3-5a8ff4cde2b4",
   "metadata": {},
   "outputs": [
    {
     "data": {
      "image/png": "[encoded data removed]",
      "text/plain": [
       "<Figure size 648x432 with 1 Axes>"
      ]
     },
     "metadata": {
      "needs_background": "light"
     },
     "output_type": "display_data"
    }
   ],
   "source": [
    "fig,ax=plt.subplots(figsize=(9,6))\n",
    "p=plt.barh(xa['city'],round(xa['diff'],1),color=\"orange\")\n",
    "plt.bar_label(p,label_type='edge',size=10,name=\"Verdana\",alpha=1,padding=-25,color='#fff')\n",
    "plt.tick_params(left=False)\n",
    "plt.xticks([])\n",
    "sns.despine(bottom=True,left=True)\n",
    "plt.text(-1,11,\"Inequality in England's best Cities with Higher Life Expectancy  \",color=\"k\",size=15,name=\"Verdana\", weight=\"bold\")\n",
    "plt.text(-1,10,\"Longer Bar Signifies a Higer Inequality Gap ab the Average Life Expectancy\",color=\"k\",size=12,name=\"Verdana\")\n",
    "plt.show()"
   ]
  },
  {
   "cell_type": "markdown",
   "id": "a88d2c98-10f6-4cc0-b727-55f2816aa2a4",
   "metadata": {},
   "source": [
    ">An infant in the Vale of White Horse will likely die 6 years earlier than his pairs in the City of London"
   ]
  },
  {
   "cell_type": "code",
   "execution_count": 54,
   "id": "2454d9ee-3747-4812-a7ef-23000fb0b512",
   "metadata": {},
   "outputs": [
    {
     "data": {
      "text/html": [
       "<div>\n",
       "<style scoped>\n",
       "    .dataframe tbody tr th:only-of-type {\n",
       "        vertical-align: middle;\n",
       "    }\n",
       "\n",
       "    .dataframe tbody tr th {\n",
       "        vertical-align: top;\n",
       "    }\n",
       "\n",
       "    .dataframe thead th {\n",
       "        text-align: right;\n",
       "    }\n",
       "</style>\n",
       "<table border=\"1\" class=\"dataframe\">\n",
       "  <thead>\n",
       "    <tr style=\"text-align: right;\">\n",
       "      <th></th>\n",
       "      <th>city</th>\n",
       "      <th>life_expectancy</th>\n",
       "      <th>above_average</th>\n",
       "      <th>diff</th>\n",
       "    </tr>\n",
       "  </thead>\n",
       "  <tbody>\n",
       "    <tr>\n",
       "      <th>122</th>\n",
       "      <td>Hartlepool</td>\n",
       "      <td>78.752652</td>\n",
       "      <td>False</td>\n",
       "      <td>2.82</td>\n",
       "    </tr>\n",
       "    <tr>\n",
       "      <th>20</th>\n",
       "      <td>Blackburn with Darwen</td>\n",
       "      <td>78.658333</td>\n",
       "      <td>False</td>\n",
       "      <td>2.91</td>\n",
       "    </tr>\n",
       "    <tr>\n",
       "      <th>153</th>\n",
       "      <td>Lincoln</td>\n",
       "      <td>78.609091</td>\n",
       "      <td>False</td>\n",
       "      <td>2.96</td>\n",
       "    </tr>\n",
       "    <tr>\n",
       "      <th>261</th>\n",
       "      <td>Stoke-on-Trent</td>\n",
       "      <td>78.595588</td>\n",
       "      <td>False</td>\n",
       "      <td>2.97</td>\n",
       "    </tr>\n",
       "    <tr>\n",
       "      <th>39</th>\n",
       "      <td>Burnley</td>\n",
       "      <td>78.550000</td>\n",
       "      <td>False</td>\n",
       "      <td>3.02</td>\n",
       "    </tr>\n",
       "  </tbody>\n",
       "</table>\n",
       "</div>"
      ],
      "text/plain": [
       "                      city  life_expectancy  above_average  diff\n",
       "122             Hartlepool        78.752652          False  2.82\n",
       "20   Blackburn with Darwen        78.658333          False  2.91\n",
       "153                Lincoln        78.609091          False  2.96\n",
       "261         Stoke-on-Trent        78.595588          False  2.97\n",
       "39                 Burnley        78.550000          False  3.02"
      ]
     },
     "execution_count": 54,
     "metadata": {},
     "output_type": "execute_result"
    }
   ],
   "source": [
    "## find the iniquaity gap in life expectancy below the mean\n",
    "below_c=below_avg.copy()\n",
    "below_c['diff']=round(england_life_expectancy-below_avg['life_expectancy'],2)\n",
    "xb=below_c.sort_values(\"diff\",ascending=True).tail(10)\n",
    "xb.head()"
   ]
  },
  {
   "cell_type": "code",
   "execution_count": 55,
   "id": "f6de83d4-6c7e-407e-a831-9f2eb929e25a",
   "metadata": {},
   "outputs": [
    {
     "data": {
      "image/png": "[encoded data removed]",
      "text/plain": [
       "<Figure size 648x432 with 1 Axes>"
      ]
     },
     "metadata": {
      "needs_background": "light"
     },
     "output_type": "display_data"
    }
   ],
   "source": [
    "fig,ax=plt.subplots(figsize=(9,6))\n",
    "p=plt.barh(xb['city'],round(xb['diff'],1),color=\"orange\")\n",
    "plt.bar_label(p,label_type='edge',size=10,name=\"Verdana\",alpha=1,padding=-25,color='#fff')\n",
    "plt.tick_params(left=False)\n",
    "plt.xticks([])\n",
    "sns.despine(bottom=True,left=True)\n",
    "plt.text(-0.5,11,\"Inequality in England's Worst Cities with Lower Life Expectancy  \",color=\"k\",size=15,name=\"Verdana\", weight=\"bold\")\n",
    "plt.text(-0.5,10,\"Longer Bar Signifies a Higer Inequality Gap Below the Average Life Expectancy\",color=\"k\",size=12,name=\"Verdana\")\n",
    "plt.show()"
   ]
  },
  {
   "cell_type": "markdown",
   "id": "f39a7776-d972-4d64-aaaa-130428030915",
   "metadata": {},
   "source": [
    "> It is evident that the"
   ]
  },
  {
   "cell_type": "markdown",
   "id": "1b2ec501-0dbb-4be8-b0c1-77db60fbeeb0",
   "metadata": {},
   "source": [
    "# Conclusion\n",
    "***\n",
    "In general, the difference in life expectancy between any city and the average English life expectancy runs between -4.7 and 9.1. Despite its reputation for \"hustle and bustle,\" London has the greatest inequality gap, 9.1. In other words, a newborn born in the City of London is more likely to live longer than in any other city in England. This is much worse in Blackpool, where the inequality gap is 4.7 years lower than the national average. In other words, a newborn in Blackpool is 13.8 years more likely to die than his counterpart in the City of London."
   ]
  },
  {
   "cell_type": "markdown",
   "id": "8ea5d488-4d18-4c22-ab3b-4b8cc5ef8f11",
   "metadata": {},
   "source": [
    "# Limitations\n",
    "***\n",
    "The dataset is insufficient to fully explain the causes of health inequalities in England. Additional data must be collected to determine the differences identified in this analysis."
   ]
  }
 ],
 "metadata": {
  "kernelspec": {
   "display_name": "Python 3 (ipykernel)",
   "language": "python",
   "name": "python3"
  },
  "language_info": {
   "codemirror_mode": {
    "name": "ipython",
    "version": 3
   },
   "file_extension": ".py",
   "mimetype": "text/x-python",
   "name": "python",
   "nbconvert_exporter": "python",
   "pygments_lexer": "ipython3",
   "version": "3.9.12"
  }
 },
 "nbformat": 4,
 "nbformat_minor": 5
}
