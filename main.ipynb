{
 "cells": [
  {
   "cell_type": "markdown",
   "id": "732a3d75-c251-49f8-b2ce-70d53715ee03",
   "metadata": {},
   "source": [
    "## Inequalities in Health in England"
   ]
  },
  {
   "cell_type": "code",
   "execution_count": 1,
   "id": "4cc76fe8-76e7-4a6a-b05b-2a89005d3d4a",
   "metadata": {},
   "outputs": [],
   "source": [
    "import numpy as np\n",
    "import pandas as pd\n",
    "import seaborn as sns\n",
    "import matplotlib.pyplot as plt\n",
    "import requests\n",
    "import os\n",
    "import re"
   ]
  },
  {
   "cell_type": "markdown",
   "id": "6719a38c-7295-43ff-93cf-850a0a7c79c3",
   "metadata": {},
   "source": [
    "### Data Gathering"
   ]
  },
  {
   "cell_type": "code",
   "execution_count": 2,
   "id": "98dc0a8b-3108-43bc-b939-908382435a7c",
   "metadata": {},
   "outputs": [],
   "source": [
    "if False:\n",
    "    url_local_health=\"https://wpieconomics.us13.list-manage.com/track/click?u=5331abc1c0dacc833dd4e807b&id=645de758bb&e=9f29c59835.csv\"\n",
    "    multiple_deprivation='https://assets.publishing.service.gov.uk/government/uploads/system/uploads/attachment_data/file/833970/File_1_-_IMD2019_Index_of_Multiple_Deprivation.xlsx'\n",
    "    urls=[url_local_health,multiple_deprivation]\n",
    "    for url in urls:\n",
    "        response=requests.get(url)\n",
    "        with open(url.split(\".\")[2]+\".\"+url.split(\".\")[-1],'wb') as file:\n",
    "            file.write(response.content)"
   ]
  },
  {
   "cell_type": "code",
   "execution_count": null,
   "id": "acbfe29d-e3e3-45b0-ad52-d46848d46a10",
   "metadata": {},
   "outputs": [],
   "source": [
    "life_exp_df=pd.read_csv('list-manage.csv')\n",
    "imd_df=pd.read_excel(\"service.xlsx\",sheet_name=\"IMD2019\")"
   ]
  },
  {
   "cell_type": "markdown",
   "id": "baf5f713-542e-49b2-8b18-1d7c29a31d19",
   "metadata": {},
   "source": [
    "### Pre-loading dataset 1"
   ]
  },
  {
   "cell_type": "code",
   "execution_count": null,
   "id": "8193757c-7a71-46a1-874b-e0d7b2f8f683",
   "metadata": {},
   "outputs": [],
   "source": [
    "life_exp_df.info()"
   ]
  },
  {
   "cell_type": "markdown",
   "id": "abca209b-0944-4bfe-a651-5bd44f2985a6",
   "metadata": {},
   "source": [
    "#### Pre-loadong  dataset 2"
   ]
  },
  {
   "cell_type": "code",
   "execution_count": null,
   "id": "9d18efe2-330e-4b09-a51d-a6448b8f1b09",
   "metadata": {},
   "outputs": [],
   "source": [
    "imd_df.info()"
   ]
  },
  {
   "cell_type": "markdown",
   "id": "edfa0cd7-6c2a-4dea-8c4b-53e0dd3c1e6d",
   "metadata": {
    "tags": []
   },
   "source": [
    "## Data Acessment"
   ]
  },
  {
   "cell_type": "markdown",
   "id": "8172166f-5b3a-45ab-9e89-fc93747958b5",
   "metadata": {},
   "source": [
    "#### Assessing dataset 1"
   ]
  },
  {
   "cell_type": "code",
   "execution_count": null,
   "id": "9e9eaa3a-3df6-4332-bda5-bce773c6e8a7",
   "metadata": {},
   "outputs": [],
   "source": [
    "life_exp_df.head()"
   ]
  },
  {
   "cell_type": "code",
   "execution_count": null,
   "id": "6622d717-bd82-4975-95c6-cfa37b5dc8d9",
   "metadata": {},
   "outputs": [],
   "source": [
    "life_exp_df.columns"
   ]
  },
  {
   "cell_type": "markdown",
   "id": "b57dc091-9ac6-442a-94ba-76cb5e5cd22f",
   "metadata": {},
   "source": [
    "##### Outcome of Assessing the Dataset 1\n",
    "- tidy up data table- life expectancy in a single column\n",
    "- Remove the title\n",
    "- city code to another column\n",
    "- rename columns\n",
    "- Treat NaN values\n",
    "- Strip the city code of the city label\n",
    "- remove NaN for life expectancy at birth- that's the independent variable"
   ]
  },
  {
   "cell_type": "markdown",
   "id": "53a0d508-dd26-4fbf-bf1f-b55053fe0648",
   "metadata": {},
   "source": [
    "### Assessing dataset 2"
   ]
  },
  {
   "cell_type": "code",
   "execution_count": null,
   "id": "c593a26c-3853-48a7-8ac5-cd8096f9820b",
   "metadata": {},
   "outputs": [],
   "source": [
    "imd_df.info()"
   ]
  },
  {
   "cell_type": "code",
   "execution_count": null,
   "id": "e35973bb-790b-43be-809e-652974f973aa",
   "metadata": {},
   "outputs": [],
   "source": [
    "imd_df.head()"
   ]
  },
  {
   "cell_type": "markdown",
   "id": "b55f64c6-a53b-4fe8-845d-f89e21de3b7a",
   "metadata": {},
   "source": [
    "### Assessing dataset2\n",
    "- drop LOSA code (2011) & LSOA name (2011) columns\n",
    "- rename columns\n",
    "- Convert IMD rank to integer\n",
    "- convert IMD Decile to integer"
   ]
  },
  {
   "cell_type": "markdown",
   "id": "01770fd4-f5bc-4beb-a551-552197dc26da",
   "metadata": {},
   "source": [
    "## Data Cleaning"
   ]
  },
  {
   "cell_type": "code",
   "execution_count": null,
   "id": "e0f38d10-7ff9-4ad7-a1d4-e07813ff7c1b",
   "metadata": {},
   "outputs": [],
   "source": [
    "expectancy_df=life_exp_df.copy()\n",
    "deprivation_df=imd_df.copy()"
   ]
  },
  {
   "cell_type": "markdown",
   "id": "c6be083d-f9bb-4853-a977-7aef80cec4cb",
   "metadata": {},
   "source": [
    "### Dataset 1\n",
    " Delete the first two rows and rename columns"
   ]
  },
  {
   "cell_type": "code",
   "execution_count": null,
   "id": "463bc762-de83-4b04-abb2-35bcdc4b7764",
   "metadata": {},
   "outputs": [],
   "source": [
    "header=[\"area_id\",\"city\",\"male_life_expectancy\",\"female_life_expectancy\"]"
   ]
  },
  {
   "cell_type": "code",
   "execution_count": null,
   "id": "6cc19d48-8aab-4d96-b09b-79d334b5a4f4",
   "metadata": {},
   "outputs": [],
   "source": [
    "expectancy_df=expectancy_df.iloc[2:]\n",
    "expectancy_df.columns=header\n",
    "expectancy_df"
   ]
  },
  {
   "cell_type": "code",
   "execution_count": null,
   "id": "42a03f5d-5ed3-43de-bbd9-1c9346adf792",
   "metadata": {},
   "outputs": [],
   "source": [
    "splited_df=expectancy_df.city.str.split(r'(\\d+)', expand=True,regex=True,)\n",
    "splited_df.columns=[\"city\",\"area_code\",\"empty_column\"]\n",
    "print(splited_df.empty_column.value_counts())\n"
   ]
  },
  {
   "cell_type": "code",
   "execution_count": null,
   "id": "366ca292-0e80-48e1-98f9-1136af37359d",
   "metadata": {},
   "outputs": [],
   "source": [
    "expectancy_df.drop('city',axis=1,inplace=True)"
   ]
  },
  {
   "cell_type": "code",
   "execution_count": null,
   "id": "5cab6243-54ea-4777-ae31-812d23ae3efd",
   "metadata": {},
   "outputs": [],
   "source": [
    "expectancy_df['city']=splited_df['city']\n",
    "expectancy_df['area_code']=splited_df['area_code']\n",
    "expectancy_df.reset_index(drop=True,inplace=True)\n",
    "expectancy_df=expectancy_df[['area_id','area_code','city',\"male_life_expectancy\",\"female_life_expectancy\"]]\n",
    "expectancy_df.head()"
   ]
  },
  {
   "cell_type": "code",
   "execution_count": null,
   "id": "5d85d782-301f-4b23-80dc-533cc0b46c4a",
   "metadata": {},
   "outputs": [],
   "source": [
    "#convert life expectancy to type float\n",
    "expectancy_df.male_life_expectancy=expectancy_df.male_life_expectancy.astype(float)\n",
    "expectancy_df.female_life_expectancy=expectancy_df.female_life_expectancy.astype(float)"
   ]
  },
  {
   "cell_type": "code",
   "execution_count": null,
   "id": "f1c0bbd4-224f-4a38-a86d-ce2d63c00baa",
   "metadata": {},
   "outputs": [],
   "source": [
    "expectancy_df.info()"
   ]
  },
  {
   "cell_type": "markdown",
   "id": "51fd9af3-857f-44a1-bc24-e3eff11c782a",
   "metadata": {},
   "source": [
    "### Treat NaN values"
   ]
  },
  {
   "cell_type": "code",
   "execution_count": null,
   "id": "9ac86c41-d87d-422f-9558-2325fa59ed5a",
   "metadata": {},
   "outputs": [],
   "source": [
    "expectancy_df.isnull().sum()"
   ]
  },
  {
   "cell_type": "code",
   "execution_count": null,
   "id": "f6b657c9-a98a-46f6-90e7-9c3b1b612a10",
   "metadata": {},
   "outputs": [],
   "source": [
    "expectancy_df.head()"
   ]
  },
  {
   "cell_type": "code",
   "execution_count": null,
   "id": "24e29aa0-6f7a-49c8-b299-14d437c9c719",
   "metadata": {},
   "outputs": [],
   "source": [
    "expectancy_df.city=expectancy_df.city.str.strip()\n",
    "expectancy_df[expectancy_df.male_life_expectancy.isnull()==True ]"
   ]
  },
  {
   "cell_type": "code",
   "execution_count": null,
   "id": "b2d9bdc4-9147-450f-b7d6-b1c3ffa3bc44",
   "metadata": {},
   "outputs": [],
   "source": [
    "#replace empty cells with corresponding mean of specific city\n",
    "for i,cty in enumerate(expectancy_df['city']): \n",
    "    if pd.isnull(expectancy_df.loc[i,'male_life_expectancy']):\n",
    "        expectancy_df.loc[i,'male_life_expectancy']=expectancy_df.query(\"city==@cty\")[\"male_life_expectancy\"].mean()"
   ]
  },
  {
   "cell_type": "code",
   "execution_count": null,
   "id": "90b01cb6-3e40-41de-b8c9-39ea65a85feb",
   "metadata": {},
   "outputs": [],
   "source": [
    "#replace empty cells with corresponding mean of specific city\n",
    "for i,cty in enumerate(expectancy_df['city']): \n",
    "    if pd.isnull(expectancy_df.loc[i,'female_life_expectancy']):\n",
    "        expectancy_df.loc[i,'female_life_expectancy']=expectancy_df.query(\"city==@cty\")[\"female_life_expectancy\"].mean()"
   ]
  },
  {
   "cell_type": "code",
   "execution_count": null,
   "id": "5d3fd5b6-f7bd-49dc-8fc7-403c6c7c29e6",
   "metadata": {},
   "outputs": [],
   "source": [
    "expectancy_df.isnull().sum()"
   ]
  },
  {
   "cell_type": "code",
   "execution_count": null,
   "id": "c2301212-603a-4d3e-889b-e80497efbfe4",
   "metadata": {},
   "outputs": [],
   "source": [
    "expectancy_df.info()"
   ]
  },
  {
   "cell_type": "code",
   "execution_count": null,
   "id": "8af9cb17-a479-4a4f-b5ce-8d8723fced55",
   "metadata": {},
   "outputs": [],
   "source": [
    "expectancy_df[expectancy_df.male_life_expectancy.isnull()==True ]"
   ]
  },
  {
   "cell_type": "code",
   "execution_count": null,
   "id": "c9f21df5-02c5-4e81-b4eb-d6a9434adaa1",
   "metadata": {},
   "outputs": [],
   "source": [
    "expectancy_df.groupby(\"city\", as_index=False)[expectancy_df.columns[-2:].to_list()].mean()"
   ]
  },
  {
   "cell_type": "code",
   "execution_count": null,
   "id": "816a9c09-063c-453a-9223-993b8b574d38",
   "metadata": {},
   "outputs": [],
   "source": [
    "male_expectancy=expectancy_df.copy()\n",
    "female_expectancy=expectancy_df.copy()"
   ]
  },
  {
   "cell_type": "code",
   "execution_count": null,
   "id": "be46f356-d446-4fb9-b82f-052aa044f8cd",
   "metadata": {},
   "outputs": [],
   "source": [
    "male_expectancy.insert(3,column=\"gender\",value=\"Male\")\n",
    "male_expectancy.rename({\"male_life_expectancy\":\"life_expectancy\"},axis=1,inplace=True)\n",
    "male_expectancy.drop(\"female_life_expectancy\",axis=1,inplace=True)"
   ]
  },
  {
   "cell_type": "code",
   "execution_count": null,
   "id": "01c668a3-4865-493c-b6ca-9450b9285ad0",
   "metadata": {},
   "outputs": [],
   "source": [
    "female_expectancy.insert(3,column=\"gender\",value=\"Female\")\n",
    "female_expectancy.rename({\"female_life_expectancy\":\"life_expectancy\"},axis=1,inplace=True)\n",
    "female_expectancy.drop(\"male_life_expectancy\",axis=1,inplace=True)"
   ]
  },
  {
   "cell_type": "code",
   "execution_count": null,
   "id": "c75f19f6-a677-4257-8a05-2128f84b2c10",
   "metadata": {},
   "outputs": [],
   "source": [
    "female_expectancy.head()"
   ]
  },
  {
   "cell_type": "code",
   "execution_count": null,
   "id": "fc1f5209-c33d-42da-8a3b-9b8ff6de9e79",
   "metadata": {},
   "outputs": [],
   "source": [
    "male_expectancy.head()"
   ]
  },
  {
   "cell_type": "code",
   "execution_count": null,
   "id": "52227c46-592b-4522-9c7f-d3326c8f2c80",
   "metadata": {},
   "outputs": [],
   "source": [
    "df.shape"
   ]
  },
  {
   "cell_type": "code",
   "execution_count": null,
   "id": "f1c3dabe-8d87-45ac-9f41-add5ac4540ca",
   "metadata": {},
   "outputs": [],
   "source": []
  },
  {
   "cell_type": "code",
   "execution_count": null,
   "id": "6b410957-cec5-4c26-bc8e-22cab44e2d47",
   "metadata": {},
   "outputs": [],
   "source": []
  },
  {
   "cell_type": "code",
   "execution_count": null,
   "id": "e40d0556-c3b9-4987-bbda-730f5e0d7425",
   "metadata": {},
   "outputs": [],
   "source": [
    "gender_exp_df=pd.concat([male_expectancy,female_expectancy])\n",
    "gender_exp_df.reset_index(drop=True,inplace=True)"
   ]
  },
  {
   "cell_type": "code",
   "execution_count": null,
   "id": "eeea0f26-a1f1-4fe5-b950-2be81dc69f90",
   "metadata": {},
   "outputs": [],
   "source": [
    "gender_exp_df.head()"
   ]
  },
  {
   "cell_type": "code",
   "execution_count": null,
   "id": "bb8f2f3d-2105-4d4f-a300-b961be642f11",
   "metadata": {},
   "outputs": [],
   "source": []
  },
  {
   "cell_type": "code",
   "execution_count": null,
   "id": "c66be14e-881c-4677-9445-cceac35654db",
   "metadata": {},
   "outputs": [],
   "source": [
    "male=gender_exp_df[gender_exp_df['gender']==\"Male\"]['life_expectancy']\n",
    "female=gender_exp_df[gender_exp_df['gender']==\"Female\"]['life_expectancy']"
   ]
  },
  {
   "cell_type": "code",
   "execution_count": null,
   "id": "d4152dd7-0978-41eb-83c7-116a1baddf3d",
   "metadata": {},
   "outputs": [],
   "source": [
    "sns.relplot(data=gender_exp_df,x=male,y=female);"
   ]
  },
  {
   "cell_type": "code",
   "execution_count": null,
   "id": "d5ae84c5-8c8b-428e-bb3e-c5e4e3ffdc53",
   "metadata": {},
   "outputs": [],
   "source": [
    "gender_exp_df"
   ]
  },
  {
   "cell_type": "code",
   "execution_count": null,
   "id": "621d06fe-e877-4847-93d8-7d5ee9453d71",
   "metadata": {},
   "outputs": [],
   "source": [
    "df = gender_exp_df.copy()"
   ]
  },
  {
   "cell_type": "code",
   "execution_count": null,
   "id": "be453c96-6a8b-4358-be89-a30bb6156225",
   "metadata": {},
   "outputs": [],
   "source": [
    "m_mean = df.query(\"gender == 'Male'\")['life_expectancy'].mean()\n",
    "f_mean = df.query(\"gender == 'Female'\")['life_expectancy'].mean()\n",
    "\n",
    "plt.hist(data=df.query(\"gender == 'Male'\"), x='life_expectancy', bins=30, label='Male', alpha=0.5)\n",
    "plt.hist(data=df.query(\"gender == 'Female'\"), x='life_expectancy', bins=30, label='Female', alpha=0.5)\n",
    "plt.axvline(x=m_mean, label = 'male_avg', color='blue')\n",
    "plt.axvline(x=f_mean, label = 'female_avg', color='#AF0B1E')\n",
    "plt.legend();"
   ]
  },
  {
   "cell_type": "code",
   "execution_count": null,
   "id": "bcc0769a-3e9a-47d3-adaf-b3a28abfb743",
   "metadata": {},
   "outputs": [],
   "source": [
    "sns.kdeplot(data=df, x='life_expectancy', hue='gender');"
   ]
  },
  {
   "cell_type": "code",
   "execution_count": null,
   "id": "d283944b-cbfd-4be4-aee6-c74aaba53e61",
   "metadata": {},
   "outputs": [],
   "source": [
    "grouped = df.groupby(['city', 'gender'])[['life_expectancy']].mean().reset_index()\n",
    "grouped.head()"
   ]
  },
  {
   "cell_type": "code",
   "execution_count": null,
   "id": "c506b5b7-6d64-49ee-8fd2-efba0ece3fb4",
   "metadata": {},
   "outputs": [],
   "source": [
    "compare = expectancy_df.iloc[:, 2:]\n",
    "compare = compare.groupby('city').mean()\n",
    "compare['female_higher'] = compare.female_life_expectancy > compare.male_life_expectancy\n",
    "print('Females have higher life expectancy than males in {} of the {} cities in the dataset'.format(compare.female_higher.sum(),compare.shape[0]))"
   ]
  },
  {
   "cell_type": "code",
   "execution_count": null,
   "id": "da965f30-6b25-4e2e-8ce4-92ea94aae13d",
   "metadata": {},
   "outputs": [],
   "source": [
    "compare[compare.female_higher == False]"
   ]
  },
  {
   "cell_type": "code",
   "execution_count": null,
   "id": "b25f19fb-2192-41ba-8070-4b5ae39e9d77",
   "metadata": {},
   "outputs": [],
   "source": [
    "england_life_expectancy=round(np.mean([f_mean,m_mean]),2)\n",
    "england_life_expectancy"
   ]
  },
  {
   "cell_type": "code",
   "execution_count": null,
   "id": "31233ffb-0e13-4e6c-80a6-3f63dd05490e",
   "metadata": {},
   "outputs": [],
   "source": [
    "city_exp=gender_exp_df.groupby(\"city\",as_index=False)[\"life_expectancy\"].mean()\n",
    "city_exp[\"above_average\"]=city_exp.life_expectancy>england_life_expectancy\n"
   ]
  },
  {
   "cell_type": "code",
   "execution_count": null,
   "id": "ee3f26ee-85e2-43c2-9a8a-0f42cc01806b",
   "metadata": {},
   "outputs": [],
   "source": [
    "print('{} cities have life expectancy above the average life expectancy in England'.format(city_exp.query(\"above_average==True\")['above_average'].count()))"
   ]
  },
  {
   "cell_type": "code",
   "execution_count": null,
   "id": "001dc54a-49ff-42c2-9e52-c68a18cd2409",
   "metadata": {},
   "outputs": [],
   "source": [
    "print('{} cities have life expectancy below the average life expectancy in England'.format(city_exp.query(\"above_average==False\")['above_average'].count()))"
   ]
  },
  {
   "cell_type": "code",
   "execution_count": null,
   "id": "8aac39ce-c6e1-4355-b6d6-7f1a5ef3d0c8",
   "metadata": {},
   "outputs": [],
   "source": []
  },
  {
   "cell_type": "code",
   "execution_count": null,
   "id": "3165c55b-9149-44a8-9040-b97ddcea45fa",
   "metadata": {},
   "outputs": [],
   "source": [
    "city_exp.above_average.value_counts()"
   ]
  },
  {
   "cell_type": "code",
   "execution_count": null,
   "id": "7df924f5-6c86-4aee-ad77-933ef2ac55dd",
   "metadata": {},
   "outputs": [],
   "source": [
    "city_exp.query(\"above_average==False\")"
   ]
  },
  {
   "cell_type": "code",
   "execution_count": null,
   "id": "2bb7872d-d96c-49e4-934d-2a5705b09e47",
   "metadata": {},
   "outputs": [],
   "source": [
    "import folium"
   ]
  },
  {
   "cell_type": "code",
   "execution_count": null,
   "id": "51b3a4c9-b7a0-4f3a-abea-c4fa179342ed",
   "metadata": {},
   "outputs": [],
   "source": [
    "pip intall folium"
   ]
  },
  {
   "cell_type": "code",
   "execution_count": null,
   "id": "6eae5ede-a4b0-446d-96b2-84f68eea01e5",
   "metadata": {},
   "outputs": [],
   "source": []
  }
 ],
 "metadata": {
  "kernelspec": {
   "display_name": "Python 3 (ipykernel)",
   "language": "python",
   "name": "python3"
  },
  "language_info": {
   "codemirror_mode": {
    "name": "ipython",
    "version": 3
   },
   "file_extension": ".py",
   "mimetype": "text/x-python",
   "name": "python",
   "nbconvert_exporter": "python",
   "pygments_lexer": "ipython3",
   "version": "3.9.12"
  }
 },
 "nbformat": 4,
 "nbformat_minor": 5
}
