{
 "cells": [
  {
   "cell_type": "markdown",
   "id": "732a3d75-c251-49f8-b2ce-70d53715ee03",
   "metadata": {},
   "source": [
    "## Inequalities in Health in England"
   ]
  },
  {
   "cell_type": "code",
   "execution_count": 2,
   "id": "4cc76fe8-76e7-4a6a-b05b-2a89005d3d4a",
   "metadata": {},
   "outputs": [],
   "source": [
    "import numpy as np\n",
    "import pandas as pd\n",
    "import seaborn as sns\n",
    "import matplotlib.pyplot as plt\n",
    "import requests"
   ]
  },
  {
   "cell_type": "markdown",
   "id": "6719a38c-7295-43ff-93cf-850a0a7c79c3",
   "metadata": {},
   "source": [
    "### Data Gathering"
   ]
  },
  {
   "cell_type": "code",
   "execution_count": 4,
   "id": "98dc0a8b-3108-43bc-b939-908382435a7c",
   "metadata": {},
   "outputs": [],
   "source": [
    "url_local_health=\"https://wpieconomics.us13.list-manage.com/track/click?u=5331abc1c0dacc833dd4e807b&id=645de758bb&e=9f29c59835\"\n",
    "response=requests.get(url_local_health)\n",
    "with open(\"local_health_in_England.csv\",mode='wb') as file:\n",
    "    file.write(response.content)"
   ]
  },
  {
   "cell_type": "code",
   "execution_count": 6,
   "id": "acbfe29d-e3e3-45b0-ad52-d46848d46a10",
   "metadata": {},
   "outputs": [],
   "source": [
    "df=pd.read_csv('local_health_in_England.csv')"
   ]
  },
  {
   "cell_type": "code",
   "execution_count": 7,
   "id": "9d18efe2-330e-4b09-a51d-a6448b8f1b09",
   "metadata": {},
   "outputs": [
    {
     "name": "stdout",
     "output_type": "stream",
     "text": [
      "<class 'pandas.core.frame.DataFrame'>\n",
      "RangeIndex: 6793 entries, 0 to 6792\n",
      "Data columns (total 4 columns):\n",
      " #   Column                                                        Non-Null Count  Dtype \n",
      "---  ------                                                        --------------  ----- \n",
      " 0   Local Health - Office for Health Improvement and Disparities  6793 non-null   object\n",
      " 1                                                                 6793 non-null   object\n",
      " 2    .1                                                           6737 non-null   object\n",
      " 3    .2                                                           6774 non-null   object\n",
      "dtypes: object(4)\n",
      "memory usage: 212.4+ KB\n"
     ]
    }
   ],
   "source": [
    "df.info()"
   ]
  },
  {
   "cell_type": "markdown",
   "id": "edfa0cd7-6c2a-4dea-8c4b-53e0dd3c1e6d",
   "metadata": {},
   "source": [
    "## Data Acessment"
   ]
  },
  {
   "cell_type": "code",
   "execution_count": 9,
   "id": "9e9eaa3a-3df6-4332-bda5-bce773c6e8a7",
   "metadata": {},
   "outputs": [
    {
     "data": {
      "text/html": [
       "<div>\n",
       "<style scoped>\n",
       "    .dataframe tbody tr th:only-of-type {\n",
       "        vertical-align: middle;\n",
       "    }\n",
       "\n",
       "    .dataframe tbody tr th {\n",
       "        vertical-align: top;\n",
       "    }\n",
       "\n",
       "    .dataframe thead th {\n",
       "        text-align: right;\n",
       "    }\n",
       "</style>\n",
       "<table border=\"1\" class=\"dataframe\">\n",
       "  <thead>\n",
       "    <tr style=\"text-align: right;\">\n",
       "      <th></th>\n",
       "      <th>Local Health - Office for Health Improvement and Disparities</th>\n",
       "      <th></th>\n",
       "      <th>.1</th>\n",
       "      <th>.2</th>\n",
       "    </tr>\n",
       "  </thead>\n",
       "  <tbody>\n",
       "    <tr>\n",
       "      <th>0</th>\n",
       "      <td>Geographical references: MSOA 2011 (Middle lev...</td>\n",
       "      <td></td>\n",
       "      <td></td>\n",
       "      <td></td>\n",
       "    </tr>\n",
       "    <tr>\n",
       "      <th>1</th>\n",
       "      <td>Code</td>\n",
       "      <td>Label</td>\n",
       "      <td>Life expectancy at birth for males</td>\n",
       "      <td>Life expectancy at birth for females</td>\n",
       "    </tr>\n",
       "    <tr>\n",
       "      <th>2</th>\n",
       "      <td>E02000001</td>\n",
       "      <td>City of London 001</td>\n",
       "      <td>91.1</td>\n",
       "      <td>90.2</td>\n",
       "    </tr>\n",
       "    <tr>\n",
       "      <th>3</th>\n",
       "      <td>E02000002</td>\n",
       "      <td>Barking and Dagenham 001</td>\n",
       "      <td>79.5</td>\n",
       "      <td>82.5</td>\n",
       "    </tr>\n",
       "    <tr>\n",
       "      <th>4</th>\n",
       "      <td>E02000003</td>\n",
       "      <td>Barking and Dagenham 002</td>\n",
       "      <td>78.1</td>\n",
       "      <td>84.2</td>\n",
       "    </tr>\n",
       "  </tbody>\n",
       "</table>\n",
       "</div>"
      ],
      "text/plain": [
       "  Local Health - Office for Health Improvement and Disparities  \\\n",
       "0  Geographical references: MSOA 2011 (Middle lev...             \n",
       "1                                               Code             \n",
       "2                                          E02000001             \n",
       "3                                          E02000002             \n",
       "4                                          E02000003             \n",
       "\n",
       "                                                             .1  \\\n",
       "0                                                                 \n",
       "1                     Label  Life expectancy at birth for males   \n",
       "2        City of London 001                                91.1   \n",
       "3  Barking and Dagenham 001                                79.5   \n",
       "4  Barking and Dagenham 002                                78.1   \n",
       "\n",
       "                                     .2  \n",
       "0                                        \n",
       "1  Life expectancy at birth for females  \n",
       "2                                  90.2  \n",
       "3                                  82.5  \n",
       "4                                  84.2  "
      ]
     },
     "execution_count": 9,
     "metadata": {},
     "output_type": "execute_result"
    }
   ],
   "source": [
    "df.head()"
   ]
  },
  {
   "cell_type": "code",
   "execution_count": 11,
   "id": "6622d717-bd82-4975-95c6-cfa37b5dc8d9",
   "metadata": {},
   "outputs": [
    {
     "data": {
      "text/plain": [
       "Index(['Local Health - Office for Health Improvement and Disparities', ' ',\n",
       "       ' .1', ' .2'],\n",
       "      dtype='object')"
      ]
     },
     "execution_count": 11,
     "metadata": {},
     "output_type": "execute_result"
    }
   ],
   "source": [
    "df.columns"
   ]
  },
  {
   "cell_type": "markdown",
   "id": "b57dc091-9ac6-442a-94ba-76cb5e5cd22f",
   "metadata": {},
   "source": [
    "#### Outcome of Assessing the Data\n",
    "- Remove the title\n",
    "- rename columns\n",
    "- Treat NaN values\n",
    "- Strip the city code of the city label\n",
    "- remove NaN for life expectancy at birth- that's the independent variable"
   ]
  },
  {
   "cell_type": "markdown",
   "id": "01770fd4-f5bc-4beb-a551-552197dc26da",
   "metadata": {},
   "source": [
    "## Data Cleaning"
   ]
  },
  {
   "cell_type": "code",
   "execution_count": 10,
   "id": "27e44c8c-6034-4ba7-8c72-e16143673656",
   "metadata": {},
   "outputs": [
    {
     "data": {
      "text/plain": [
       "Index(['Local Health - Office for Health Improvement and Disparities', ' ',\n",
       "       ' .1', ' .2'],\n",
       "      dtype='object')"
      ]
     },
     "execution_count": 10,
     "metadata": {},
     "output_type": "execute_result"
    }
   ],
   "source": [
    "df.columns"
   ]
  },
  {
   "cell_type": "code",
   "execution_count": null,
   "id": "3e77452c-9afd-4c10-9512-c626f24f0654",
   "metadata": {},
   "outputs": [],
   "source": []
  }
 ],
 "metadata": {
  "kernelspec": {
   "display_name": "Python 3 (ipykernel)",
   "language": "python",
   "name": "python3"
  },
  "language_info": {
   "codemirror_mode": {
    "name": "ipython",
    "version": 3
   },
   "file_extension": ".py",
   "mimetype": "text/x-python",
   "name": "python",
   "nbconvert_exporter": "python",
   "pygments_lexer": "ipython3",
   "version": "3.9.12"
  }
 },
 "nbformat": 4,
 "nbformat_minor": 5
}
