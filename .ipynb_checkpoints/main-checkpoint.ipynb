{
 "cells": [
  {
   "cell_type": "markdown",
   "id": "732a3d75-c251-49f8-b2ce-70d53715ee03",
   "metadata": {},
   "source": [
    "## Inequalities in Health in England"
   ]
  },
  {
   "cell_type": "code",
   "execution_count": 1,
   "id": "4cc76fe8-76e7-4a6a-b05b-2a89005d3d4a",
   "metadata": {},
   "outputs": [],
   "source": [
    "import numpy as np\n",
    "import pandas as pd\n",
    "import seaborn as sns\n",
    "import matplotlib.pyplot as plt\n",
    "import requests\n",
    "import os"
   ]
  },
  {
   "cell_type": "markdown",
   "id": "6719a38c-7295-43ff-93cf-850a0a7c79c3",
   "metadata": {},
   "source": [
    "### Data Gathering"
   ]
  },
  {
   "cell_type": "code",
   "execution_count": 2,
   "id": "98dc0a8b-3108-43bc-b939-908382435a7c",
   "metadata": {},
   "outputs": [],
   "source": [
    "if False:\n",
    "    url_local_health=\"https://wpieconomics.us13.list-manage.com/track/click?u=5331abc1c0dacc833dd4e807b&id=645de758bb&e=9f29c59835.csv\"\n",
    "    multiple_deprivation='https://assets.publishing.service.gov.uk/government/uploads/system/uploads/attachment_data/file/833970/File_1_-_IMD2019_Index_of_Multiple_Deprivation.xlsx'\n",
    "    urls=[url_local_health,multiple_deprivation]\n",
    "    for url in urls:\n",
    "        response=requests.get(url)\n",
    "        with open(url.split(\".\")[2]+\".\"+url.split(\".\")[-1],'wb') as file:\n",
    "            file.write(response.content)"
   ]
  },
  {
   "cell_type": "code",
   "execution_count": 3,
   "id": "acbfe29d-e3e3-45b0-ad52-d46848d46a10",
   "metadata": {},
   "outputs": [],
   "source": [
    "df=pd.read_csv('list-manage.csv')\n",
    "df2=pd.read_excel(\"service.xlsx\",sheet_name=\"IMD2019\")"
   ]
  },
  {
   "cell_type": "markdown",
   "id": "baf5f713-542e-49b2-8b18-1d7c29a31d19",
   "metadata": {},
   "source": [
    "### Pre-loading dataset 1"
   ]
  },
  {
   "cell_type": "code",
   "execution_count": 4,
   "id": "8193757c-7a71-46a1-874b-e0d7b2f8f683",
   "metadata": {},
   "outputs": [
    {
     "name": "stdout",
     "output_type": "stream",
     "text": [
      "<class 'pandas.core.frame.DataFrame'>\n",
      "RangeIndex: 6793 entries, 0 to 6792\n",
      "Data columns (total 4 columns):\n",
      " #   Column                                                        Non-Null Count  Dtype \n",
      "---  ------                                                        --------------  ----- \n",
      " 0   Local Health - Office for Health Improvement and Disparities  6793 non-null   object\n",
      " 1                                                                 6793 non-null   object\n",
      " 2    .1                                                           6737 non-null   object\n",
      " 3    .2                                                           6774 non-null   object\n",
      "dtypes: object(4)\n",
      "memory usage: 212.4+ KB\n"
     ]
    }
   ],
   "source": [
    "df.info()"
   ]
  },
  {
   "cell_type": "markdown",
   "id": "abca209b-0944-4bfe-a651-5bd44f2985a6",
   "metadata": {},
   "source": [
    "#### Pre-loadong  dataset 2"
   ]
  },
  {
   "cell_type": "code",
   "execution_count": 5,
   "id": "9d18efe2-330e-4b09-a51d-a6448b8f1b09",
   "metadata": {},
   "outputs": [
    {
     "name": "stdout",
     "output_type": "stream",
     "text": [
      "<class 'pandas.core.frame.DataFrame'>\n",
      "RangeIndex: 32844 entries, 0 to 32843\n",
      "Data columns (total 6 columns):\n",
      " #   Column                                      Non-Null Count  Dtype \n",
      "---  ------                                      --------------  ----- \n",
      " 0   LSOA code (2011)                            32844 non-null  object\n",
      " 1   LSOA name (2011)                            32844 non-null  object\n",
      " 2   Local Authority District code (2019)        32844 non-null  object\n",
      " 3   Local Authority District name (2019)        32844 non-null  object\n",
      " 4   Index of Multiple Deprivation (IMD) Rank    32844 non-null  int64 \n",
      " 5   Index of Multiple Deprivation (IMD) Decile  32844 non-null  int64 \n",
      "dtypes: int64(2), object(4)\n",
      "memory usage: 1.5+ MB\n"
     ]
    }
   ],
   "source": [
    "df2.info()"
   ]
  },
  {
   "cell_type": "markdown",
   "id": "edfa0cd7-6c2a-4dea-8c4b-53e0dd3c1e6d",
   "metadata": {
    "tags": []
   },
   "source": [
    "## Data Acessment"
   ]
  },
  {
   "cell_type": "markdown",
   "id": "8172166f-5b3a-45ab-9e89-fc93747958b5",
   "metadata": {},
   "source": [
    "#### Assessing dataset 1"
   ]
  },
  {
   "cell_type": "code",
   "execution_count": 6,
   "id": "9e9eaa3a-3df6-4332-bda5-bce773c6e8a7",
   "metadata": {},
   "outputs": [
    {
     "data": {
      "text/html": [
       "<div>\n",
       "<style scoped>\n",
       "    .dataframe tbody tr th:only-of-type {\n",
       "        vertical-align: middle;\n",
       "    }\n",
       "\n",
       "    .dataframe tbody tr th {\n",
       "        vertical-align: top;\n",
       "    }\n",
       "\n",
       "    .dataframe thead th {\n",
       "        text-align: right;\n",
       "    }\n",
       "</style>\n",
       "<table border=\"1\" class=\"dataframe\">\n",
       "  <thead>\n",
       "    <tr style=\"text-align: right;\">\n",
       "      <th></th>\n",
       "      <th>Local Health - Office for Health Improvement and Disparities</th>\n",
       "      <th></th>\n",
       "      <th>.1</th>\n",
       "      <th>.2</th>\n",
       "    </tr>\n",
       "  </thead>\n",
       "  <tbody>\n",
       "    <tr>\n",
       "      <th>0</th>\n",
       "      <td>Geographical references: MSOA 2011 (Middle lev...</td>\n",
       "      <td></td>\n",
       "      <td></td>\n",
       "      <td></td>\n",
       "    </tr>\n",
       "    <tr>\n",
       "      <th>1</th>\n",
       "      <td>Code</td>\n",
       "      <td>Label</td>\n",
       "      <td>Life expectancy at birth for males</td>\n",
       "      <td>Life expectancy at birth for females</td>\n",
       "    </tr>\n",
       "    <tr>\n",
       "      <th>2</th>\n",
       "      <td>E02000001</td>\n",
       "      <td>City of London 001</td>\n",
       "      <td>91.1</td>\n",
       "      <td>90.2</td>\n",
       "    </tr>\n",
       "    <tr>\n",
       "      <th>3</th>\n",
       "      <td>E02000002</td>\n",
       "      <td>Barking and Dagenham 001</td>\n",
       "      <td>79.5</td>\n",
       "      <td>82.5</td>\n",
       "    </tr>\n",
       "    <tr>\n",
       "      <th>4</th>\n",
       "      <td>E02000003</td>\n",
       "      <td>Barking and Dagenham 002</td>\n",
       "      <td>78.1</td>\n",
       "      <td>84.2</td>\n",
       "    </tr>\n",
       "  </tbody>\n",
       "</table>\n",
       "</div>"
      ],
      "text/plain": [
       "  Local Health - Office for Health Improvement and Disparities  \\\n",
       "0  Geographical references: MSOA 2011 (Middle lev...             \n",
       "1                                               Code             \n",
       "2                                          E02000001             \n",
       "3                                          E02000002             \n",
       "4                                          E02000003             \n",
       "\n",
       "                                                             .1  \\\n",
       "0                                                                 \n",
       "1                     Label  Life expectancy at birth for males   \n",
       "2        City of London 001                                91.1   \n",
       "3  Barking and Dagenham 001                                79.5   \n",
       "4  Barking and Dagenham 002                                78.1   \n",
       "\n",
       "                                     .2  \n",
       "0                                        \n",
       "1  Life expectancy at birth for females  \n",
       "2                                  90.2  \n",
       "3                                  82.5  \n",
       "4                                  84.2  "
      ]
     },
     "execution_count": 6,
     "metadata": {},
     "output_type": "execute_result"
    }
   ],
   "source": [
    "df.head()"
   ]
  },
  {
   "cell_type": "code",
   "execution_count": 7,
   "id": "6622d717-bd82-4975-95c6-cfa37b5dc8d9",
   "metadata": {},
   "outputs": [
    {
     "data": {
      "text/plain": [
       "Index(['Local Health - Office for Health Improvement and Disparities', ' ',\n",
       "       ' .1', ' .2'],\n",
       "      dtype='object')"
      ]
     },
     "execution_count": 7,
     "metadata": {},
     "output_type": "execute_result"
    }
   ],
   "source": [
    "df.columns"
   ]
  },
  {
   "cell_type": "markdown",
   "id": "b57dc091-9ac6-442a-94ba-76cb5e5cd22f",
   "metadata": {},
   "source": [
    "##### Outcome of Assessing the Dataset 1\n",
    "- Remove the title\n",
    "- city code to another column\n",
    "- rename columns\n",
    "- Treat NaN values\n",
    "- Strip the city code of the city label\n",
    "- remove NaN for life expectancy at birth- that's the independent variable"
   ]
  },
  {
   "cell_type": "markdown",
   "id": "53a0d508-dd26-4fbf-bf1f-b55053fe0648",
   "metadata": {},
   "source": [
    "### Assessing dataset 2"
   ]
  },
  {
   "cell_type": "code",
   "execution_count": 8,
   "id": "c593a26c-3853-48a7-8ac5-cd8096f9820b",
   "metadata": {},
   "outputs": [
    {
     "name": "stdout",
     "output_type": "stream",
     "text": [
      "<class 'pandas.core.frame.DataFrame'>\n",
      "RangeIndex: 32844 entries, 0 to 32843\n",
      "Data columns (total 6 columns):\n",
      " #   Column                                      Non-Null Count  Dtype \n",
      "---  ------                                      --------------  ----- \n",
      " 0   LSOA code (2011)                            32844 non-null  object\n",
      " 1   LSOA name (2011)                            32844 non-null  object\n",
      " 2   Local Authority District code (2019)        32844 non-null  object\n",
      " 3   Local Authority District name (2019)        32844 non-null  object\n",
      " 4   Index of Multiple Deprivation (IMD) Rank    32844 non-null  int64 \n",
      " 5   Index of Multiple Deprivation (IMD) Decile  32844 non-null  int64 \n",
      "dtypes: int64(2), object(4)\n",
      "memory usage: 1.5+ MB\n"
     ]
    }
   ],
   "source": [
    "df2.info()"
   ]
  },
  {
   "cell_type": "code",
   "execution_count": 9,
   "id": "e35973bb-790b-43be-809e-652974f973aa",
   "metadata": {},
   "outputs": [
    {
     "data": {
      "text/html": [
       "<div>\n",
       "<style scoped>\n",
       "    .dataframe tbody tr th:only-of-type {\n",
       "        vertical-align: middle;\n",
       "    }\n",
       "\n",
       "    .dataframe tbody tr th {\n",
       "        vertical-align: top;\n",
       "    }\n",
       "\n",
       "    .dataframe thead th {\n",
       "        text-align: right;\n",
       "    }\n",
       "</style>\n",
       "<table border=\"1\" class=\"dataframe\">\n",
       "  <thead>\n",
       "    <tr style=\"text-align: right;\">\n",
       "      <th></th>\n",
       "      <th>LSOA code (2011)</th>\n",
       "      <th>LSOA name (2011)</th>\n",
       "      <th>Local Authority District code (2019)</th>\n",
       "      <th>Local Authority District name (2019)</th>\n",
       "      <th>Index of Multiple Deprivation (IMD) Rank</th>\n",
       "      <th>Index of Multiple Deprivation (IMD) Decile</th>\n",
       "    </tr>\n",
       "  </thead>\n",
       "  <tbody>\n",
       "    <tr>\n",
       "      <th>0</th>\n",
       "      <td>E01000001</td>\n",
       "      <td>City of London 001A</td>\n",
       "      <td>E09000001</td>\n",
       "      <td>City of London</td>\n",
       "      <td>29199</td>\n",
       "      <td>9</td>\n",
       "    </tr>\n",
       "    <tr>\n",
       "      <th>1</th>\n",
       "      <td>E01000002</td>\n",
       "      <td>City of London 001B</td>\n",
       "      <td>E09000001</td>\n",
       "      <td>City of London</td>\n",
       "      <td>30379</td>\n",
       "      <td>10</td>\n",
       "    </tr>\n",
       "    <tr>\n",
       "      <th>2</th>\n",
       "      <td>E01000003</td>\n",
       "      <td>City of London 001C</td>\n",
       "      <td>E09000001</td>\n",
       "      <td>City of London</td>\n",
       "      <td>14915</td>\n",
       "      <td>5</td>\n",
       "    </tr>\n",
       "    <tr>\n",
       "      <th>3</th>\n",
       "      <td>E01000005</td>\n",
       "      <td>City of London 001E</td>\n",
       "      <td>E09000001</td>\n",
       "      <td>City of London</td>\n",
       "      <td>8678</td>\n",
       "      <td>3</td>\n",
       "    </tr>\n",
       "    <tr>\n",
       "      <th>4</th>\n",
       "      <td>E01000006</td>\n",
       "      <td>Barking and Dagenham 016A</td>\n",
       "      <td>E09000002</td>\n",
       "      <td>Barking and Dagenham</td>\n",
       "      <td>14486</td>\n",
       "      <td>5</td>\n",
       "    </tr>\n",
       "  </tbody>\n",
       "</table>\n",
       "</div>"
      ],
      "text/plain": [
       "  LSOA code (2011)           LSOA name (2011)  \\\n",
       "0        E01000001        City of London 001A   \n",
       "1        E01000002        City of London 001B   \n",
       "2        E01000003        City of London 001C   \n",
       "3        E01000005        City of London 001E   \n",
       "4        E01000006  Barking and Dagenham 016A   \n",
       "\n",
       "  Local Authority District code (2019) Local Authority District name (2019)  \\\n",
       "0                            E09000001                       City of London   \n",
       "1                            E09000001                       City of London   \n",
       "2                            E09000001                       City of London   \n",
       "3                            E09000001                       City of London   \n",
       "4                            E09000002                 Barking and Dagenham   \n",
       "\n",
       "   Index of Multiple Deprivation (IMD) Rank  \\\n",
       "0                                     29199   \n",
       "1                                     30379   \n",
       "2                                     14915   \n",
       "3                                      8678   \n",
       "4                                     14486   \n",
       "\n",
       "   Index of Multiple Deprivation (IMD) Decile  \n",
       "0                                           9  \n",
       "1                                          10  \n",
       "2                                           5  \n",
       "3                                           3  \n",
       "4                                           5  "
      ]
     },
     "execution_count": 9,
     "metadata": {},
     "output_type": "execute_result"
    }
   ],
   "source": [
    "df2.head()"
   ]
  },
  {
   "cell_type": "markdown",
   "id": "b55f64c6-a53b-4fe8-845d-f89e21de3b7a",
   "metadata": {},
   "source": [
    "### Assessing dataset2\n",
    "- drop LOSA code (2011) & LSOA name (2011) columns\n",
    "- rename columns\n",
    "- Convert IMD rank to integer\n",
    "- convert IMD Decile to integer"
   ]
  },
  {
   "cell_type": "markdown",
   "id": "01770fd4-f5bc-4beb-a551-552197dc26da",
   "metadata": {},
   "source": [
    "## Data Cleaning"
   ]
  },
  {
   "cell_type": "markdown",
   "id": "c6be083d-f9bb-4853-a977-7aef80cec4cb",
   "metadata": {},
   "source": [
    "### Dataset 1\n",
    " Delete the first two rows and rename columns"
   ]
  },
  {
   "cell_type": "code",
   "execution_count": 10,
   "id": "463bc762-de83-4b04-abb2-35bcdc4b7764",
   "metadata": {},
   "outputs": [
    {
     "data": {
      "text/plain": [
       "['area_code', 'city', 'male_life_expectancy', 'female_life_expectancy']"
      ]
     },
     "execution_count": 10,
     "metadata": {},
     "output_type": "execute_result"
    }
   ],
   "source": [
    "header=[\"area_code\",\"city\",\"male_life_expectancy\",\"female_life_expectancy\"]\n",
    "header"
   ]
  },
  {
   "cell_type": "code",
   "execution_count": 11,
   "id": "6cc19d48-8aab-4d96-b09b-79d334b5a4f4",
   "metadata": {},
   "outputs": [],
   "source": [
    "df=df.iloc[2:]\n"
   ]
  },
  {
   "cell_type": "code",
   "execution_count": 12,
   "id": "b5f510ad-5ca7-4bb1-80b1-7726d65bfcc2",
   "metadata": {},
   "outputs": [
    {
     "data": {
      "text/html": [
       "<div>\n",
       "<style scoped>\n",
       "    .dataframe tbody tr th:only-of-type {\n",
       "        vertical-align: middle;\n",
       "    }\n",
       "\n",
       "    .dataframe tbody tr th {\n",
       "        vertical-align: top;\n",
       "    }\n",
       "\n",
       "    .dataframe thead th {\n",
       "        text-align: right;\n",
       "    }\n",
       "</style>\n",
       "<table border=\"1\" class=\"dataframe\">\n",
       "  <thead>\n",
       "    <tr style=\"text-align: right;\">\n",
       "      <th></th>\n",
       "      <th>area_code</th>\n",
       "      <th>city</th>\n",
       "      <th>male_life_expectancy</th>\n",
       "      <th>female_life_expectancy</th>\n",
       "    </tr>\n",
       "  </thead>\n",
       "  <tbody>\n",
       "    <tr>\n",
       "      <th>2</th>\n",
       "      <td>E02000001</td>\n",
       "      <td>City of London 001</td>\n",
       "      <td>91.1</td>\n",
       "      <td>90.2</td>\n",
       "    </tr>\n",
       "    <tr>\n",
       "      <th>3</th>\n",
       "      <td>E02000002</td>\n",
       "      <td>Barking and Dagenham 001</td>\n",
       "      <td>79.5</td>\n",
       "      <td>82.5</td>\n",
       "    </tr>\n",
       "    <tr>\n",
       "      <th>4</th>\n",
       "      <td>E02000003</td>\n",
       "      <td>Barking and Dagenham 002</td>\n",
       "      <td>78.1</td>\n",
       "      <td>84.2</td>\n",
       "    </tr>\n",
       "    <tr>\n",
       "      <th>5</th>\n",
       "      <td>E02000004</td>\n",
       "      <td>Barking and Dagenham 003</td>\n",
       "      <td>77.6</td>\n",
       "      <td>81.8</td>\n",
       "    </tr>\n",
       "    <tr>\n",
       "      <th>6</th>\n",
       "      <td>E02000005</td>\n",
       "      <td>Barking and Dagenham 004</td>\n",
       "      <td>79.2</td>\n",
       "      <td>84.6</td>\n",
       "    </tr>\n",
       "    <tr>\n",
       "      <th>...</th>\n",
       "      <td>...</td>\n",
       "      <td>...</td>\n",
       "      <td>...</td>\n",
       "      <td>...</td>\n",
       "    </tr>\n",
       "    <tr>\n",
       "      <th>6788</th>\n",
       "      <td>E02006930</td>\n",
       "      <td>Greenwich 037</td>\n",
       "      <td>80.8</td>\n",
       "      <td>82.8</td>\n",
       "    </tr>\n",
       "    <tr>\n",
       "      <th>6789</th>\n",
       "      <td>E02006931</td>\n",
       "      <td>Greenwich 038</td>\n",
       "      <td>79.6</td>\n",
       "      <td>83.9</td>\n",
       "    </tr>\n",
       "    <tr>\n",
       "      <th>6790</th>\n",
       "      <td>E02006932</td>\n",
       "      <td>Liverpool 060</td>\n",
       "      <td>73.4</td>\n",
       "      <td>78.7</td>\n",
       "    </tr>\n",
       "    <tr>\n",
       "      <th>6791</th>\n",
       "      <td>E02006933</td>\n",
       "      <td>Liverpool 061</td>\n",
       "      <td>77</td>\n",
       "      <td>84.3</td>\n",
       "    </tr>\n",
       "    <tr>\n",
       "      <th>6792</th>\n",
       "      <td>E02006934</td>\n",
       "      <td>Liverpool 062</td>\n",
       "      <td>NaN</td>\n",
       "      <td>NaN</td>\n",
       "    </tr>\n",
       "  </tbody>\n",
       "</table>\n",
       "<p>6791 rows × 4 columns</p>\n",
       "</div>"
      ],
      "text/plain": [
       "      area_code                      city male_life_expectancy  \\\n",
       "2     E02000001        City of London 001                 91.1   \n",
       "3     E02000002  Barking and Dagenham 001                 79.5   \n",
       "4     E02000003  Barking and Dagenham 002                 78.1   \n",
       "5     E02000004  Barking and Dagenham 003                 77.6   \n",
       "6     E02000005  Barking and Dagenham 004                 79.2   \n",
       "...         ...                       ...                  ...   \n",
       "6788  E02006930             Greenwich 037                 80.8   \n",
       "6789  E02006931             Greenwich 038                 79.6   \n",
       "6790  E02006932             Liverpool 060                 73.4   \n",
       "6791  E02006933             Liverpool 061                   77   \n",
       "6792  E02006934             Liverpool 062                  NaN   \n",
       "\n",
       "     female_life_expectancy  \n",
       "2                      90.2  \n",
       "3                      82.5  \n",
       "4                      84.2  \n",
       "5                      81.8  \n",
       "6                      84.6  \n",
       "...                     ...  \n",
       "6788                   82.8  \n",
       "6789                   83.9  \n",
       "6790                   78.7  \n",
       "6791                   84.3  \n",
       "6792                    NaN  \n",
       "\n",
       "[6791 rows x 4 columns]"
      ]
     },
     "execution_count": 12,
     "metadata": {},
     "output_type": "execute_result"
    }
   ],
   "source": [
    "df.columns=header\n",
    "df"
   ]
  },
  {
   "cell_type": "code",
   "execution_count": null,
   "id": "c2ac34af-de4a-4422-bc45-e4fa27e73bd4",
   "metadata": {},
   "outputs": [],
   "source": []
  }
 ],
 "metadata": {
  "kernelspec": {
   "display_name": "Python 3 (ipykernel)",
   "language": "python",
   "name": "python3"
  },
  "language_info": {
   "codemirror_mode": {
    "name": "ipython",
    "version": 3
   },
   "file_extension": ".py",
   "mimetype": "text/x-python",
   "name": "python",
   "nbconvert_exporter": "python",
   "pygments_lexer": "ipython3",
   "version": "3.9.12"
  }
 },
 "nbformat": 4,
 "nbformat_minor": 5
}
